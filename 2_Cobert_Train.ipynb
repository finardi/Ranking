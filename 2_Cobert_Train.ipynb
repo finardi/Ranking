{
  "nbformat": 4,
  "nbformat_minor": 0,
  "metadata": {
    "colab": {
      "name": "2 - Cobert-Train.ipynb",
      "provenance": [],
      "toc_visible": true,
      "mount_file_id": "1VjcRRurjgkaQ-98FJk849wk99fdD1deA",
      "authorship_tag": "ABX9TyMsfDVrqShFrmXA6qKVSbX1",
      "include_colab_link": true
    },
    "kernelspec": {
      "name": "python3",
      "display_name": "Python 3"
    },
    "language_info": {
      "name": "python"
    },
    "accelerator": "GPU",
    "widgets": {
      "application/vnd.jupyter.widget-state+json": {
        "31569bf627624b69b86785a3a4baf67e": {
          "model_module": "@jupyter-widgets/controls",
          "model_name": "HBoxModel",
          "state": {
            "_view_name": "HBoxView",
            "_dom_classes": [],
            "_model_name": "HBoxModel",
            "_view_module": "@jupyter-widgets/controls",
            "_model_module_version": "1.5.0",
            "_view_count": null,
            "_view_module_version": "1.5.0",
            "box_style": "",
            "layout": "IPY_MODEL_203a62a6e1e04447a75c4e0a0efcc5f8",
            "_model_module": "@jupyter-widgets/controls",
            "children": [
              "IPY_MODEL_37c364417d7248a0a6f05f528ed69cac",
              "IPY_MODEL_e4963f56d3b54bfe8fdfa49cc220a836"
            ]
          }
        },
        "203a62a6e1e04447a75c4e0a0efcc5f8": {
          "model_module": "@jupyter-widgets/base",
          "model_name": "LayoutModel",
          "state": {
            "_view_name": "LayoutView",
            "grid_template_rows": null,
            "right": null,
            "justify_content": null,
            "_view_module": "@jupyter-widgets/base",
            "overflow": null,
            "_model_module_version": "1.2.0",
            "_view_count": null,
            "flex_flow": null,
            "width": null,
            "min_width": null,
            "border": null,
            "align_items": null,
            "bottom": null,
            "_model_module": "@jupyter-widgets/base",
            "top": null,
            "grid_column": null,
            "overflow_y": null,
            "overflow_x": null,
            "grid_auto_flow": null,
            "grid_area": null,
            "grid_template_columns": null,
            "flex": null,
            "_model_name": "LayoutModel",
            "justify_items": null,
            "grid_row": null,
            "max_height": null,
            "align_content": null,
            "visibility": null,
            "align_self": null,
            "height": null,
            "min_height": null,
            "padding": null,
            "grid_auto_rows": null,
            "grid_gap": null,
            "max_width": null,
            "order": null,
            "_view_module_version": "1.2.0",
            "grid_template_areas": null,
            "object_position": null,
            "object_fit": null,
            "grid_auto_columns": null,
            "margin": null,
            "display": null,
            "left": null
          }
        },
        "37c364417d7248a0a6f05f528ed69cac": {
          "model_module": "@jupyter-widgets/controls",
          "model_name": "FloatProgressModel",
          "state": {
            "_view_name": "ProgressView",
            "style": "IPY_MODEL_9cfe1d911d144578bf72002e48c7fa26",
            "_dom_classes": [],
            "description": "Downloading: 100%",
            "_model_name": "FloatProgressModel",
            "bar_style": "success",
            "max": 871891,
            "_view_module": "@jupyter-widgets/controls",
            "_model_module_version": "1.5.0",
            "value": 871891,
            "_view_count": null,
            "_view_module_version": "1.5.0",
            "orientation": "horizontal",
            "min": 0,
            "description_tooltip": null,
            "_model_module": "@jupyter-widgets/controls",
            "layout": "IPY_MODEL_508e05d930ac49599eaa2985907f72ad"
          }
        },
        "e4963f56d3b54bfe8fdfa49cc220a836": {
          "model_module": "@jupyter-widgets/controls",
          "model_name": "HTMLModel",
          "state": {
            "_view_name": "HTMLView",
            "style": "IPY_MODEL_d537ef208e03406b887f1e766d56cbcd",
            "_dom_classes": [],
            "description": "",
            "_model_name": "HTMLModel",
            "placeholder": "​",
            "_view_module": "@jupyter-widgets/controls",
            "_model_module_version": "1.5.0",
            "value": " 872k/872k [00:04&lt;00:00, 212kB/s]",
            "_view_count": null,
            "_view_module_version": "1.5.0",
            "description_tooltip": null,
            "_model_module": "@jupyter-widgets/controls",
            "layout": "IPY_MODEL_8bcca76bd6ea404a8053026463abf4e2"
          }
        },
        "9cfe1d911d144578bf72002e48c7fa26": {
          "model_module": "@jupyter-widgets/controls",
          "model_name": "ProgressStyleModel",
          "state": {
            "_view_name": "StyleView",
            "_model_name": "ProgressStyleModel",
            "description_width": "initial",
            "_view_module": "@jupyter-widgets/base",
            "_model_module_version": "1.5.0",
            "_view_count": null,
            "_view_module_version": "1.2.0",
            "bar_color": null,
            "_model_module": "@jupyter-widgets/controls"
          }
        },
        "508e05d930ac49599eaa2985907f72ad": {
          "model_module": "@jupyter-widgets/base",
          "model_name": "LayoutModel",
          "state": {
            "_view_name": "LayoutView",
            "grid_template_rows": null,
            "right": null,
            "justify_content": null,
            "_view_module": "@jupyter-widgets/base",
            "overflow": null,
            "_model_module_version": "1.2.0",
            "_view_count": null,
            "flex_flow": null,
            "width": null,
            "min_width": null,
            "border": null,
            "align_items": null,
            "bottom": null,
            "_model_module": "@jupyter-widgets/base",
            "top": null,
            "grid_column": null,
            "overflow_y": null,
            "overflow_x": null,
            "grid_auto_flow": null,
            "grid_area": null,
            "grid_template_columns": null,
            "flex": null,
            "_model_name": "LayoutModel",
            "justify_items": null,
            "grid_row": null,
            "max_height": null,
            "align_content": null,
            "visibility": null,
            "align_self": null,
            "height": null,
            "min_height": null,
            "padding": null,
            "grid_auto_rows": null,
            "grid_gap": null,
            "max_width": null,
            "order": null,
            "_view_module_version": "1.2.0",
            "grid_template_areas": null,
            "object_position": null,
            "object_fit": null,
            "grid_auto_columns": null,
            "margin": null,
            "display": null,
            "left": null
          }
        },
        "d537ef208e03406b887f1e766d56cbcd": {
          "model_module": "@jupyter-widgets/controls",
          "model_name": "DescriptionStyleModel",
          "state": {
            "_view_name": "StyleView",
            "_model_name": "DescriptionStyleModel",
            "description_width": "",
            "_view_module": "@jupyter-widgets/base",
            "_model_module_version": "1.5.0",
            "_view_count": null,
            "_view_module_version": "1.2.0",
            "_model_module": "@jupyter-widgets/controls"
          }
        },
        "8bcca76bd6ea404a8053026463abf4e2": {
          "model_module": "@jupyter-widgets/base",
          "model_name": "LayoutModel",
          "state": {
            "_view_name": "LayoutView",
            "grid_template_rows": null,
            "right": null,
            "justify_content": null,
            "_view_module": "@jupyter-widgets/base",
            "overflow": null,
            "_model_module_version": "1.2.0",
            "_view_count": null,
            "flex_flow": null,
            "width": null,
            "min_width": null,
            "border": null,
            "align_items": null,
            "bottom": null,
            "_model_module": "@jupyter-widgets/base",
            "top": null,
            "grid_column": null,
            "overflow_y": null,
            "overflow_x": null,
            "grid_auto_flow": null,
            "grid_area": null,
            "grid_template_columns": null,
            "flex": null,
            "_model_name": "LayoutModel",
            "justify_items": null,
            "grid_row": null,
            "max_height": null,
            "align_content": null,
            "visibility": null,
            "align_self": null,
            "height": null,
            "min_height": null,
            "padding": null,
            "grid_auto_rows": null,
            "grid_gap": null,
            "max_width": null,
            "order": null,
            "_view_module_version": "1.2.0",
            "grid_template_areas": null,
            "object_position": null,
            "object_fit": null,
            "grid_auto_columns": null,
            "margin": null,
            "display": null,
            "left": null
          }
        },
        "2db2fb4cc1aa4233a770972865dfde1f": {
          "model_module": "@jupyter-widgets/controls",
          "model_name": "HBoxModel",
          "state": {
            "_view_name": "HBoxView",
            "_dom_classes": [],
            "_model_name": "HBoxModel",
            "_view_module": "@jupyter-widgets/controls",
            "_model_module_version": "1.5.0",
            "_view_count": null,
            "_view_module_version": "1.5.0",
            "box_style": "",
            "layout": "IPY_MODEL_35dc74c0fdaa4db1a29d0367535c55e3",
            "_model_module": "@jupyter-widgets/controls",
            "children": [
              "IPY_MODEL_befa1db24c76463688eb9a19fcd8c6c5",
              "IPY_MODEL_f9bd8ba3dcaa44189a05048f8ee5add0"
            ]
          }
        },
        "35dc74c0fdaa4db1a29d0367535c55e3": {
          "model_module": "@jupyter-widgets/base",
          "model_name": "LayoutModel",
          "state": {
            "_view_name": "LayoutView",
            "grid_template_rows": null,
            "right": null,
            "justify_content": null,
            "_view_module": "@jupyter-widgets/base",
            "overflow": null,
            "_model_module_version": "1.2.0",
            "_view_count": null,
            "flex_flow": null,
            "width": null,
            "min_width": null,
            "border": null,
            "align_items": null,
            "bottom": null,
            "_model_module": "@jupyter-widgets/base",
            "top": null,
            "grid_column": null,
            "overflow_y": null,
            "overflow_x": null,
            "grid_auto_flow": null,
            "grid_area": null,
            "grid_template_columns": null,
            "flex": null,
            "_model_name": "LayoutModel",
            "justify_items": null,
            "grid_row": null,
            "max_height": null,
            "align_content": null,
            "visibility": null,
            "align_self": null,
            "height": null,
            "min_height": null,
            "padding": null,
            "grid_auto_rows": null,
            "grid_gap": null,
            "max_width": null,
            "order": null,
            "_view_module_version": "1.2.0",
            "grid_template_areas": null,
            "object_position": null,
            "object_fit": null,
            "grid_auto_columns": null,
            "margin": null,
            "display": null,
            "left": null
          }
        },
        "befa1db24c76463688eb9a19fcd8c6c5": {
          "model_module": "@jupyter-widgets/controls",
          "model_name": "FloatProgressModel",
          "state": {
            "_view_name": "ProgressView",
            "style": "IPY_MODEL_f3b3efc2f82b4175be4a86332b4f71a6",
            "_dom_classes": [],
            "description": "Downloading: 100%",
            "_model_name": "FloatProgressModel",
            "bar_style": "success",
            "max": 1715180,
            "_view_module": "@jupyter-widgets/controls",
            "_model_module_version": "1.5.0",
            "value": 1715180,
            "_view_count": null,
            "_view_module_version": "1.5.0",
            "orientation": "horizontal",
            "min": 0,
            "description_tooltip": null,
            "_model_module": "@jupyter-widgets/controls",
            "layout": "IPY_MODEL_b0afe4bbdcd043eaa8a78dbf731f9c9c"
          }
        },
        "f9bd8ba3dcaa44189a05048f8ee5add0": {
          "model_module": "@jupyter-widgets/controls",
          "model_name": "HTMLModel",
          "state": {
            "_view_name": "HTMLView",
            "style": "IPY_MODEL_9ec70bff22e0467abd126c65a187c586",
            "_dom_classes": [],
            "description": "",
            "_model_name": "HTMLModel",
            "placeholder": "​",
            "_view_module": "@jupyter-widgets/controls",
            "_model_module_version": "1.5.0",
            "value": " 1.72M/1.72M [00:01&lt;00:00, 1.21MB/s]",
            "_view_count": null,
            "_view_module_version": "1.5.0",
            "description_tooltip": null,
            "_model_module": "@jupyter-widgets/controls",
            "layout": "IPY_MODEL_e14a358664db43b089a2be7631e212f8"
          }
        },
        "f3b3efc2f82b4175be4a86332b4f71a6": {
          "model_module": "@jupyter-widgets/controls",
          "model_name": "ProgressStyleModel",
          "state": {
            "_view_name": "StyleView",
            "_model_name": "ProgressStyleModel",
            "description_width": "initial",
            "_view_module": "@jupyter-widgets/base",
            "_model_module_version": "1.5.0",
            "_view_count": null,
            "_view_module_version": "1.2.0",
            "bar_color": null,
            "_model_module": "@jupyter-widgets/controls"
          }
        },
        "b0afe4bbdcd043eaa8a78dbf731f9c9c": {
          "model_module": "@jupyter-widgets/base",
          "model_name": "LayoutModel",
          "state": {
            "_view_name": "LayoutView",
            "grid_template_rows": null,
            "right": null,
            "justify_content": null,
            "_view_module": "@jupyter-widgets/base",
            "overflow": null,
            "_model_module_version": "1.2.0",
            "_view_count": null,
            "flex_flow": null,
            "width": null,
            "min_width": null,
            "border": null,
            "align_items": null,
            "bottom": null,
            "_model_module": "@jupyter-widgets/base",
            "top": null,
            "grid_column": null,
            "overflow_y": null,
            "overflow_x": null,
            "grid_auto_flow": null,
            "grid_area": null,
            "grid_template_columns": null,
            "flex": null,
            "_model_name": "LayoutModel",
            "justify_items": null,
            "grid_row": null,
            "max_height": null,
            "align_content": null,
            "visibility": null,
            "align_self": null,
            "height": null,
            "min_height": null,
            "padding": null,
            "grid_auto_rows": null,
            "grid_gap": null,
            "max_width": null,
            "order": null,
            "_view_module_version": "1.2.0",
            "grid_template_areas": null,
            "object_position": null,
            "object_fit": null,
            "grid_auto_columns": null,
            "margin": null,
            "display": null,
            "left": null
          }
        },
        "9ec70bff22e0467abd126c65a187c586": {
          "model_module": "@jupyter-widgets/controls",
          "model_name": "DescriptionStyleModel",
          "state": {
            "_view_name": "StyleView",
            "_model_name": "DescriptionStyleModel",
            "description_width": "",
            "_view_module": "@jupyter-widgets/base",
            "_model_module_version": "1.5.0",
            "_view_count": null,
            "_view_module_version": "1.2.0",
            "_model_module": "@jupyter-widgets/controls"
          }
        },
        "e14a358664db43b089a2be7631e212f8": {
          "model_module": "@jupyter-widgets/base",
          "model_name": "LayoutModel",
          "state": {
            "_view_name": "LayoutView",
            "grid_template_rows": null,
            "right": null,
            "justify_content": null,
            "_view_module": "@jupyter-widgets/base",
            "overflow": null,
            "_model_module_version": "1.2.0",
            "_view_count": null,
            "flex_flow": null,
            "width": null,
            "min_width": null,
            "border": null,
            "align_items": null,
            "bottom": null,
            "_model_module": "@jupyter-widgets/base",
            "top": null,
            "grid_column": null,
            "overflow_y": null,
            "overflow_x": null,
            "grid_auto_flow": null,
            "grid_area": null,
            "grid_template_columns": null,
            "flex": null,
            "_model_name": "LayoutModel",
            "justify_items": null,
            "grid_row": null,
            "max_height": null,
            "align_content": null,
            "visibility": null,
            "align_self": null,
            "height": null,
            "min_height": null,
            "padding": null,
            "grid_auto_rows": null,
            "grid_gap": null,
            "max_width": null,
            "order": null,
            "_view_module_version": "1.2.0",
            "grid_template_areas": null,
            "object_position": null,
            "object_fit": null,
            "grid_auto_columns": null,
            "margin": null,
            "display": null,
            "left": null
          }
        },
        "fd7454f7e7a34556bbd88fc3dbbae442": {
          "model_module": "@jupyter-widgets/controls",
          "model_name": "HBoxModel",
          "state": {
            "_view_name": "HBoxView",
            "_dom_classes": [],
            "_model_name": "HBoxModel",
            "_view_module": "@jupyter-widgets/controls",
            "_model_module_version": "1.5.0",
            "_view_count": null,
            "_view_module_version": "1.5.0",
            "box_style": "",
            "layout": "IPY_MODEL_c82a8d480a984bf986c6b2222e240de9",
            "_model_module": "@jupyter-widgets/controls",
            "children": [
              "IPY_MODEL_483523ef1b7a49ce97629e5796521b67",
              "IPY_MODEL_59fd8be3f5d14cddb25a7c18b5908d84"
            ]
          }
        },
        "c82a8d480a984bf986c6b2222e240de9": {
          "model_module": "@jupyter-widgets/base",
          "model_name": "LayoutModel",
          "state": {
            "_view_name": "LayoutView",
            "grid_template_rows": null,
            "right": null,
            "justify_content": null,
            "_view_module": "@jupyter-widgets/base",
            "overflow": null,
            "_model_module_version": "1.2.0",
            "_view_count": null,
            "flex_flow": null,
            "width": null,
            "min_width": null,
            "border": null,
            "align_items": null,
            "bottom": null,
            "_model_module": "@jupyter-widgets/base",
            "top": null,
            "grid_column": null,
            "overflow_y": null,
            "overflow_x": null,
            "grid_auto_flow": null,
            "grid_area": null,
            "grid_template_columns": null,
            "flex": null,
            "_model_name": "LayoutModel",
            "justify_items": null,
            "grid_row": null,
            "max_height": null,
            "align_content": null,
            "visibility": null,
            "align_self": null,
            "height": null,
            "min_height": null,
            "padding": null,
            "grid_auto_rows": null,
            "grid_gap": null,
            "max_width": null,
            "order": null,
            "_view_module_version": "1.2.0",
            "grid_template_areas": null,
            "object_position": null,
            "object_fit": null,
            "grid_auto_columns": null,
            "margin": null,
            "display": null,
            "left": null
          }
        },
        "483523ef1b7a49ce97629e5796521b67": {
          "model_module": "@jupyter-widgets/controls",
          "model_name": "FloatProgressModel",
          "state": {
            "_view_name": "ProgressView",
            "style": "IPY_MODEL_18d799f6c27446f68826d802baf2b964",
            "_dom_classes": [],
            "description": "Downloading: 100%",
            "_model_name": "FloatProgressModel",
            "bar_style": "success",
            "max": 28,
            "_view_module": "@jupyter-widgets/controls",
            "_model_module_version": "1.5.0",
            "value": 28,
            "_view_count": null,
            "_view_module_version": "1.5.0",
            "orientation": "horizontal",
            "min": 0,
            "description_tooltip": null,
            "_model_module": "@jupyter-widgets/controls",
            "layout": "IPY_MODEL_ad3557f1eba74321bb7e6e8484eda472"
          }
        },
        "59fd8be3f5d14cddb25a7c18b5908d84": {
          "model_module": "@jupyter-widgets/controls",
          "model_name": "HTMLModel",
          "state": {
            "_view_name": "HTMLView",
            "style": "IPY_MODEL_fde093f2777f46c0ab76e67b374233cf",
            "_dom_classes": [],
            "description": "",
            "_model_name": "HTMLModel",
            "placeholder": "​",
            "_view_module": "@jupyter-widgets/controls",
            "_model_module_version": "1.5.0",
            "value": " 28.0/28.0 [00:01&lt;00:00, 14.6B/s]",
            "_view_count": null,
            "_view_module_version": "1.5.0",
            "description_tooltip": null,
            "_model_module": "@jupyter-widgets/controls",
            "layout": "IPY_MODEL_a1d122299bed4a608cdefc03d1b90493"
          }
        },
        "18d799f6c27446f68826d802baf2b964": {
          "model_module": "@jupyter-widgets/controls",
          "model_name": "ProgressStyleModel",
          "state": {
            "_view_name": "StyleView",
            "_model_name": "ProgressStyleModel",
            "description_width": "initial",
            "_view_module": "@jupyter-widgets/base",
            "_model_module_version": "1.5.0",
            "_view_count": null,
            "_view_module_version": "1.2.0",
            "bar_color": null,
            "_model_module": "@jupyter-widgets/controls"
          }
        },
        "ad3557f1eba74321bb7e6e8484eda472": {
          "model_module": "@jupyter-widgets/base",
          "model_name": "LayoutModel",
          "state": {
            "_view_name": "LayoutView",
            "grid_template_rows": null,
            "right": null,
            "justify_content": null,
            "_view_module": "@jupyter-widgets/base",
            "overflow": null,
            "_model_module_version": "1.2.0",
            "_view_count": null,
            "flex_flow": null,
            "width": null,
            "min_width": null,
            "border": null,
            "align_items": null,
            "bottom": null,
            "_model_module": "@jupyter-widgets/base",
            "top": null,
            "grid_column": null,
            "overflow_y": null,
            "overflow_x": null,
            "grid_auto_flow": null,
            "grid_area": null,
            "grid_template_columns": null,
            "flex": null,
            "_model_name": "LayoutModel",
            "justify_items": null,
            "grid_row": null,
            "max_height": null,
            "align_content": null,
            "visibility": null,
            "align_self": null,
            "height": null,
            "min_height": null,
            "padding": null,
            "grid_auto_rows": null,
            "grid_gap": null,
            "max_width": null,
            "order": null,
            "_view_module_version": "1.2.0",
            "grid_template_areas": null,
            "object_position": null,
            "object_fit": null,
            "grid_auto_columns": null,
            "margin": null,
            "display": null,
            "left": null
          }
        },
        "fde093f2777f46c0ab76e67b374233cf": {
          "model_module": "@jupyter-widgets/controls",
          "model_name": "DescriptionStyleModel",
          "state": {
            "_view_name": "StyleView",
            "_model_name": "DescriptionStyleModel",
            "description_width": "",
            "_view_module": "@jupyter-widgets/base",
            "_model_module_version": "1.5.0",
            "_view_count": null,
            "_view_module_version": "1.2.0",
            "_model_module": "@jupyter-widgets/controls"
          }
        },
        "a1d122299bed4a608cdefc03d1b90493": {
          "model_module": "@jupyter-widgets/base",
          "model_name": "LayoutModel",
          "state": {
            "_view_name": "LayoutView",
            "grid_template_rows": null,
            "right": null,
            "justify_content": null,
            "_view_module": "@jupyter-widgets/base",
            "overflow": null,
            "_model_module_version": "1.2.0",
            "_view_count": null,
            "flex_flow": null,
            "width": null,
            "min_width": null,
            "border": null,
            "align_items": null,
            "bottom": null,
            "_model_module": "@jupyter-widgets/base",
            "top": null,
            "grid_column": null,
            "overflow_y": null,
            "overflow_x": null,
            "grid_auto_flow": null,
            "grid_area": null,
            "grid_template_columns": null,
            "flex": null,
            "_model_name": "LayoutModel",
            "justify_items": null,
            "grid_row": null,
            "max_height": null,
            "align_content": null,
            "visibility": null,
            "align_self": null,
            "height": null,
            "min_height": null,
            "padding": null,
            "grid_auto_rows": null,
            "grid_gap": null,
            "max_width": null,
            "order": null,
            "_view_module_version": "1.2.0",
            "grid_template_areas": null,
            "object_position": null,
            "object_fit": null,
            "grid_auto_columns": null,
            "margin": null,
            "display": null,
            "left": null
          }
        },
        "3c279a1135f64c00b48f1da0bc69f3c1": {
          "model_module": "@jupyter-widgets/controls",
          "model_name": "HBoxModel",
          "state": {
            "_view_name": "HBoxView",
            "_dom_classes": [],
            "_model_name": "HBoxModel",
            "_view_module": "@jupyter-widgets/controls",
            "_model_module_version": "1.5.0",
            "_view_count": null,
            "_view_module_version": "1.5.0",
            "box_style": "",
            "layout": "IPY_MODEL_f45683a78b764ae0844f7b92cf4a577c",
            "_model_module": "@jupyter-widgets/controls",
            "children": [
              "IPY_MODEL_e4c042d237a74eb8b998f6f6a1219010",
              "IPY_MODEL_64d9226f1a524f5b85d70602fa1bfb0b"
            ]
          }
        },
        "f45683a78b764ae0844f7b92cf4a577c": {
          "model_module": "@jupyter-widgets/base",
          "model_name": "LayoutModel",
          "state": {
            "_view_name": "LayoutView",
            "grid_template_rows": null,
            "right": null,
            "justify_content": null,
            "_view_module": "@jupyter-widgets/base",
            "overflow": null,
            "_model_module_version": "1.2.0",
            "_view_count": null,
            "flex_flow": null,
            "width": null,
            "min_width": null,
            "border": null,
            "align_items": null,
            "bottom": null,
            "_model_module": "@jupyter-widgets/base",
            "top": null,
            "grid_column": null,
            "overflow_y": null,
            "overflow_x": null,
            "grid_auto_flow": null,
            "grid_area": null,
            "grid_template_columns": null,
            "flex": null,
            "_model_name": "LayoutModel",
            "justify_items": null,
            "grid_row": null,
            "max_height": null,
            "align_content": null,
            "visibility": null,
            "align_self": null,
            "height": null,
            "min_height": null,
            "padding": null,
            "grid_auto_rows": null,
            "grid_gap": null,
            "max_width": null,
            "order": null,
            "_view_module_version": "1.2.0",
            "grid_template_areas": null,
            "object_position": null,
            "object_fit": null,
            "grid_auto_columns": null,
            "margin": null,
            "display": null,
            "left": null
          }
        },
        "e4c042d237a74eb8b998f6f6a1219010": {
          "model_module": "@jupyter-widgets/controls",
          "model_name": "FloatProgressModel",
          "state": {
            "_view_name": "ProgressView",
            "style": "IPY_MODEL_2cf99dd2b9384206a93152744b567831",
            "_dom_classes": [],
            "description": "Downloading: 100%",
            "_model_name": "FloatProgressModel",
            "bar_style": "success",
            "max": 625,
            "_view_module": "@jupyter-widgets/controls",
            "_model_module_version": "1.5.0",
            "value": 625,
            "_view_count": null,
            "_view_module_version": "1.5.0",
            "orientation": "horizontal",
            "min": 0,
            "description_tooltip": null,
            "_model_module": "@jupyter-widgets/controls",
            "layout": "IPY_MODEL_a170e5a2720645cb9fb3155b798f5c3f"
          }
        },
        "64d9226f1a524f5b85d70602fa1bfb0b": {
          "model_module": "@jupyter-widgets/controls",
          "model_name": "HTMLModel",
          "state": {
            "_view_name": "HTMLView",
            "style": "IPY_MODEL_e378859d0d5546329459a32773e9b923",
            "_dom_classes": [],
            "description": "",
            "_model_name": "HTMLModel",
            "placeholder": "​",
            "_view_module": "@jupyter-widgets/controls",
            "_model_module_version": "1.5.0",
            "value": " 625/625 [00:00&lt;00:00, 716B/s]",
            "_view_count": null,
            "_view_module_version": "1.5.0",
            "description_tooltip": null,
            "_model_module": "@jupyter-widgets/controls",
            "layout": "IPY_MODEL_2bee0351293140ab8727239a395bce2b"
          }
        },
        "2cf99dd2b9384206a93152744b567831": {
          "model_module": "@jupyter-widgets/controls",
          "model_name": "ProgressStyleModel",
          "state": {
            "_view_name": "StyleView",
            "_model_name": "ProgressStyleModel",
            "description_width": "initial",
            "_view_module": "@jupyter-widgets/base",
            "_model_module_version": "1.5.0",
            "_view_count": null,
            "_view_module_version": "1.2.0",
            "bar_color": null,
            "_model_module": "@jupyter-widgets/controls"
          }
        },
        "a170e5a2720645cb9fb3155b798f5c3f": {
          "model_module": "@jupyter-widgets/base",
          "model_name": "LayoutModel",
          "state": {
            "_view_name": "LayoutView",
            "grid_template_rows": null,
            "right": null,
            "justify_content": null,
            "_view_module": "@jupyter-widgets/base",
            "overflow": null,
            "_model_module_version": "1.2.0",
            "_view_count": null,
            "flex_flow": null,
            "width": null,
            "min_width": null,
            "border": null,
            "align_items": null,
            "bottom": null,
            "_model_module": "@jupyter-widgets/base",
            "top": null,
            "grid_column": null,
            "overflow_y": null,
            "overflow_x": null,
            "grid_auto_flow": null,
            "grid_area": null,
            "grid_template_columns": null,
            "flex": null,
            "_model_name": "LayoutModel",
            "justify_items": null,
            "grid_row": null,
            "max_height": null,
            "align_content": null,
            "visibility": null,
            "align_self": null,
            "height": null,
            "min_height": null,
            "padding": null,
            "grid_auto_rows": null,
            "grid_gap": null,
            "max_width": null,
            "order": null,
            "_view_module_version": "1.2.0",
            "grid_template_areas": null,
            "object_position": null,
            "object_fit": null,
            "grid_auto_columns": null,
            "margin": null,
            "display": null,
            "left": null
          }
        },
        "e378859d0d5546329459a32773e9b923": {
          "model_module": "@jupyter-widgets/controls",
          "model_name": "DescriptionStyleModel",
          "state": {
            "_view_name": "StyleView",
            "_model_name": "DescriptionStyleModel",
            "description_width": "",
            "_view_module": "@jupyter-widgets/base",
            "_model_module_version": "1.5.0",
            "_view_count": null,
            "_view_module_version": "1.2.0",
            "_model_module": "@jupyter-widgets/controls"
          }
        },
        "2bee0351293140ab8727239a395bce2b": {
          "model_module": "@jupyter-widgets/base",
          "model_name": "LayoutModel",
          "state": {
            "_view_name": "LayoutView",
            "grid_template_rows": null,
            "right": null,
            "justify_content": null,
            "_view_module": "@jupyter-widgets/base",
            "overflow": null,
            "_model_module_version": "1.2.0",
            "_view_count": null,
            "flex_flow": null,
            "width": null,
            "min_width": null,
            "border": null,
            "align_items": null,
            "bottom": null,
            "_model_module": "@jupyter-widgets/base",
            "top": null,
            "grid_column": null,
            "overflow_y": null,
            "overflow_x": null,
            "grid_auto_flow": null,
            "grid_area": null,
            "grid_template_columns": null,
            "flex": null,
            "_model_name": "LayoutModel",
            "justify_items": null,
            "grid_row": null,
            "max_height": null,
            "align_content": null,
            "visibility": null,
            "align_self": null,
            "height": null,
            "min_height": null,
            "padding": null,
            "grid_auto_rows": null,
            "grid_gap": null,
            "max_width": null,
            "order": null,
            "_view_module_version": "1.2.0",
            "grid_template_areas": null,
            "object_position": null,
            "object_fit": null,
            "grid_auto_columns": null,
            "margin": null,
            "display": null,
            "left": null
          }
        },
        "82fcb109657e49efa69c98681233b907": {
          "model_module": "@jupyter-widgets/controls",
          "model_name": "HBoxModel",
          "state": {
            "_view_name": "HBoxView",
            "_dom_classes": [],
            "_model_name": "HBoxModel",
            "_view_module": "@jupyter-widgets/controls",
            "_model_module_version": "1.5.0",
            "_view_count": null,
            "_view_module_version": "1.5.0",
            "box_style": "",
            "layout": "IPY_MODEL_4e677352afcd46feacbf5de5e6b8bbbf",
            "_model_module": "@jupyter-widgets/controls",
            "children": [
              "IPY_MODEL_7dbdf8ac3ed14639915adaf3d5d06c7c",
              "IPY_MODEL_2f336df8c34447d4a5f0d3b9957e56e1"
            ]
          }
        },
        "4e677352afcd46feacbf5de5e6b8bbbf": {
          "model_module": "@jupyter-widgets/base",
          "model_name": "LayoutModel",
          "state": {
            "_view_name": "LayoutView",
            "grid_template_rows": null,
            "right": null,
            "justify_content": null,
            "_view_module": "@jupyter-widgets/base",
            "overflow": null,
            "_model_module_version": "1.2.0",
            "_view_count": null,
            "flex_flow": null,
            "width": null,
            "min_width": null,
            "border": null,
            "align_items": null,
            "bottom": null,
            "_model_module": "@jupyter-widgets/base",
            "top": null,
            "grid_column": null,
            "overflow_y": null,
            "overflow_x": null,
            "grid_auto_flow": null,
            "grid_area": null,
            "grid_template_columns": null,
            "flex": null,
            "_model_name": "LayoutModel",
            "justify_items": null,
            "grid_row": null,
            "max_height": null,
            "align_content": null,
            "visibility": null,
            "align_self": null,
            "height": null,
            "min_height": null,
            "padding": null,
            "grid_auto_rows": null,
            "grid_gap": null,
            "max_width": null,
            "order": null,
            "_view_module_version": "1.2.0",
            "grid_template_areas": null,
            "object_position": null,
            "object_fit": null,
            "grid_auto_columns": null,
            "margin": null,
            "display": null,
            "left": null
          }
        },
        "7dbdf8ac3ed14639915adaf3d5d06c7c": {
          "model_module": "@jupyter-widgets/controls",
          "model_name": "FloatProgressModel",
          "state": {
            "_view_name": "ProgressView",
            "style": "IPY_MODEL_88a239767ce04e61bc86d2beb11a79c2",
            "_dom_classes": [],
            "description": "Downloading: 100%",
            "_model_name": "FloatProgressModel",
            "bar_style": "success",
            "max": 672271273,
            "_view_module": "@jupyter-widgets/controls",
            "_model_module_version": "1.5.0",
            "value": 672271273,
            "_view_count": null,
            "_view_module_version": "1.5.0",
            "orientation": "horizontal",
            "min": 0,
            "description_tooltip": null,
            "_model_module": "@jupyter-widgets/controls",
            "layout": "IPY_MODEL_033b4bfdc9b3433da911f1d37bfed31e"
          }
        },
        "2f336df8c34447d4a5f0d3b9957e56e1": {
          "model_module": "@jupyter-widgets/controls",
          "model_name": "HTMLModel",
          "state": {
            "_view_name": "HTMLView",
            "style": "IPY_MODEL_fe890ad7ebbc4393a88749521b512152",
            "_dom_classes": [],
            "description": "",
            "_model_name": "HTMLModel",
            "placeholder": "​",
            "_view_module": "@jupyter-widgets/controls",
            "_model_module_version": "1.5.0",
            "value": " 672M/672M [05:04&lt;00:00, 2.21MB/s]",
            "_view_count": null,
            "_view_module_version": "1.5.0",
            "description_tooltip": null,
            "_model_module": "@jupyter-widgets/controls",
            "layout": "IPY_MODEL_a91a65be7b9d4d5892fa149bf93062c0"
          }
        },
        "88a239767ce04e61bc86d2beb11a79c2": {
          "model_module": "@jupyter-widgets/controls",
          "model_name": "ProgressStyleModel",
          "state": {
            "_view_name": "StyleView",
            "_model_name": "ProgressStyleModel",
            "description_width": "initial",
            "_view_module": "@jupyter-widgets/base",
            "_model_module_version": "1.5.0",
            "_view_count": null,
            "_view_module_version": "1.2.0",
            "bar_color": null,
            "_model_module": "@jupyter-widgets/controls"
          }
        },
        "033b4bfdc9b3433da911f1d37bfed31e": {
          "model_module": "@jupyter-widgets/base",
          "model_name": "LayoutModel",
          "state": {
            "_view_name": "LayoutView",
            "grid_template_rows": null,
            "right": null,
            "justify_content": null,
            "_view_module": "@jupyter-widgets/base",
            "overflow": null,
            "_model_module_version": "1.2.0",
            "_view_count": null,
            "flex_flow": null,
            "width": null,
            "min_width": null,
            "border": null,
            "align_items": null,
            "bottom": null,
            "_model_module": "@jupyter-widgets/base",
            "top": null,
            "grid_column": null,
            "overflow_y": null,
            "overflow_x": null,
            "grid_auto_flow": null,
            "grid_area": null,
            "grid_template_columns": null,
            "flex": null,
            "_model_name": "LayoutModel",
            "justify_items": null,
            "grid_row": null,
            "max_height": null,
            "align_content": null,
            "visibility": null,
            "align_self": null,
            "height": null,
            "min_height": null,
            "padding": null,
            "grid_auto_rows": null,
            "grid_gap": null,
            "max_width": null,
            "order": null,
            "_view_module_version": "1.2.0",
            "grid_template_areas": null,
            "object_position": null,
            "object_fit": null,
            "grid_auto_columns": null,
            "margin": null,
            "display": null,
            "left": null
          }
        },
        "fe890ad7ebbc4393a88749521b512152": {
          "model_module": "@jupyter-widgets/controls",
          "model_name": "DescriptionStyleModel",
          "state": {
            "_view_name": "StyleView",
            "_model_name": "DescriptionStyleModel",
            "description_width": "",
            "_view_module": "@jupyter-widgets/base",
            "_model_module_version": "1.5.0",
            "_view_count": null,
            "_view_module_version": "1.2.0",
            "_model_module": "@jupyter-widgets/controls"
          }
        },
        "a91a65be7b9d4d5892fa149bf93062c0": {
          "model_module": "@jupyter-widgets/base",
          "model_name": "LayoutModel",
          "state": {
            "_view_name": "LayoutView",
            "grid_template_rows": null,
            "right": null,
            "justify_content": null,
            "_view_module": "@jupyter-widgets/base",
            "overflow": null,
            "_model_module_version": "1.2.0",
            "_view_count": null,
            "flex_flow": null,
            "width": null,
            "min_width": null,
            "border": null,
            "align_items": null,
            "bottom": null,
            "_model_module": "@jupyter-widgets/base",
            "top": null,
            "grid_column": null,
            "overflow_y": null,
            "overflow_x": null,
            "grid_auto_flow": null,
            "grid_area": null,
            "grid_template_columns": null,
            "flex": null,
            "_model_name": "LayoutModel",
            "justify_items": null,
            "grid_row": null,
            "max_height": null,
            "align_content": null,
            "visibility": null,
            "align_self": null,
            "height": null,
            "min_height": null,
            "padding": null,
            "grid_auto_rows": null,
            "grid_gap": null,
            "max_width": null,
            "order": null,
            "_view_module_version": "1.2.0",
            "grid_template_areas": null,
            "object_position": null,
            "object_fit": null,
            "grid_auto_columns": null,
            "margin": null,
            "display": null,
            "left": null
          }
        }
      }
    }
  },
  "cells": [
    {
      "cell_type": "markdown",
      "metadata": {
        "id": "view-in-github",
        "colab_type": "text"
      },
      "source": [
        "<a href=\"https://colab.research.google.com/github/finardi/Ranking/blob/main/2_Cobert_Train.ipynb\" target=\"_parent\"><img src=\"https://colab.research.google.com/assets/colab-badge.svg\" alt=\"Open In Colab\"/></a>"
      ]
    },
    {
      "cell_type": "code",
      "metadata": {
        "colab": {
          "base_uri": "https://localhost:8080/"
        },
        "id": "5BfSZVO8Ppgy",
        "outputId": "10f5fa08-740e-4b8f-ac8a-1b0f825afe8b"
      },
      "source": [
        "!nvidia-smi"
      ],
      "execution_count": null,
      "outputs": [
        {
          "output_type": "stream",
          "text": [
            "Tue Jun  8 01:53:58 2021       \n",
            "+-----------------------------------------------------------------------------+\n",
            "| NVIDIA-SMI 465.27       Driver Version: 460.32.03    CUDA Version: 11.2     |\n",
            "|-------------------------------+----------------------+----------------------+\n",
            "| GPU  Name        Persistence-M| Bus-Id        Disp.A | Volatile Uncorr. ECC |\n",
            "| Fan  Temp  Perf  Pwr:Usage/Cap|         Memory-Usage | GPU-Util  Compute M. |\n",
            "|                               |                      |               MIG M. |\n",
            "|===============================+======================+======================|\n",
            "|   0  Tesla P100-PCIE...  Off  | 00000000:00:04.0 Off |                    0 |\n",
            "| N/A   33C    P0    26W / 250W |      0MiB / 16280MiB |      0%      Default |\n",
            "|                               |                      |                  N/A |\n",
            "+-------------------------------+----------------------+----------------------+\n",
            "                                                                               \n",
            "+-----------------------------------------------------------------------------+\n",
            "| Processes:                                                                  |\n",
            "|  GPU   GI   CI        PID   Type   Process name                  GPU Memory |\n",
            "|        ID   ID                                                   Usage      |\n",
            "|=============================================================================|\n",
            "|  No running processes found                                                 |\n",
            "+-----------------------------------------------------------------------------+\n"
          ],
          "name": "stdout"
        }
      ]
    },
    {
      "cell_type": "code",
      "metadata": {
        "id": "oNELvpVyr89V"
      },
      "source": [
        "%%capture\n",
        "!pip install -q transformers"
      ],
      "execution_count": null,
      "outputs": []
    },
    {
      "cell_type": "code",
      "metadata": {
        "id": "ljyXVTqJkW3J"
      },
      "source": [
        "import gc\n",
        "import os\n",
        "import time\n",
        "import torch\n",
        "import pickle\n",
        "import numpy as np\n",
        "import pandas as pd\n",
        "from functools import partial\n",
        "from transformers import BertPreTrainedModel, BertModel, BertTokenizerFast\n",
        "\n",
        "# better pandas viz\n",
        "pd.set_option('display.max_columns', 100)  \n",
        "pd.set_option('display.expand_frame_repr', 100)\n",
        "pd.set_option('max_colwidth', 700)\n",
        "pd.set_option('display.max_rows', 5000)\n",
        "  \n",
        "# save/load pickles\n",
        "def pickle_file(path, data=None):\n",
        "    if data is None:\n",
        "        with open(path, 'rb') as f:\n",
        "            return pickle.load(f)\n",
        "    if data is not None:\n",
        "        with open(path, 'wb') as handle:\n",
        "            pickle.dump(data, handle, protocol=pickle.HIGHEST_PROTOCOL)\n",
        " \n",
        "# path base\n",
        "path_base =  '/content/drive/MyDrive/ColBERT/ColBERT - FAQ Receita Federal/'"
      ],
      "execution_count": null,
      "outputs": []
    },
    {
      "cell_type": "code",
      "metadata": {
        "colab": {
          "base_uri": "https://localhost:8080/",
          "height": 198,
          "referenced_widgets": [
            "31569bf627624b69b86785a3a4baf67e",
            "203a62a6e1e04447a75c4e0a0efcc5f8",
            "37c364417d7248a0a6f05f528ed69cac",
            "e4963f56d3b54bfe8fdfa49cc220a836",
            "9cfe1d911d144578bf72002e48c7fa26",
            "508e05d930ac49599eaa2985907f72ad",
            "d537ef208e03406b887f1e766d56cbcd",
            "8bcca76bd6ea404a8053026463abf4e2",
            "2db2fb4cc1aa4233a770972865dfde1f",
            "35dc74c0fdaa4db1a29d0367535c55e3",
            "befa1db24c76463688eb9a19fcd8c6c5",
            "f9bd8ba3dcaa44189a05048f8ee5add0",
            "f3b3efc2f82b4175be4a86332b4f71a6",
            "b0afe4bbdcd043eaa8a78dbf731f9c9c",
            "9ec70bff22e0467abd126c65a187c586",
            "e14a358664db43b089a2be7631e212f8",
            "fd7454f7e7a34556bbd88fc3dbbae442",
            "c82a8d480a984bf986c6b2222e240de9",
            "483523ef1b7a49ce97629e5796521b67",
            "59fd8be3f5d14cddb25a7c18b5908d84",
            "18d799f6c27446f68826d802baf2b964",
            "ad3557f1eba74321bb7e6e8484eda472",
            "fde093f2777f46c0ab76e67b374233cf",
            "a1d122299bed4a608cdefc03d1b90493"
          ]
        },
        "id": "TLOpU0qGxHu2",
        "outputId": "c5f47c42-7cd0-4193-909d-4f56d87942d6"
      },
      "source": [
        "# =============\n",
        "# ✨ Constants\n",
        "# =============\n",
        "bsize = 16 # N\n",
        "query_maxlen = 48\n",
        "doc_maxlen = 128\n",
        "path_model = 'bert-base-multilingual-uncased'\n",
        "\n",
        "# ==================\n",
        "# ✨ QueryTokenizer\n",
        "# ==================\n",
        "class QueryTokenizer():\n",
        "    def __init__(self, query_maxlen, path_tokenizer):\n",
        "        self.tok = BertTokenizerFast.from_pretrained(path_tokenizer)\n",
        "        self.query_maxlen = query_maxlen\n",
        "\n",
        "        self.cls_token, self.cls_token_id = self.tok.cls_token, self.tok.cls_token_id\n",
        "        self.sep_token, self.sep_token_id = self.tok.sep_token, self.tok.sep_token_id\n",
        "        self.mask_token, self.mask_token_id = self.tok.mask_token, self.tok.mask_token_id\n",
        "\n",
        "    def tokenize(self, batch_text, add_special_tokens=False):\n",
        "        assert type(batch_text) in [list, tuple], (type(batch_text))\n",
        "\n",
        "        tokens = [self.tok.tokenize(x, add_special_tokens=False) for x in batch_text]\n",
        "\n",
        "        if not add_special_tokens:\n",
        "            return tokens\n",
        "\n",
        "        prefix, suffix = [self.cls_token], [self.sep_token]\n",
        "        tokens = [prefix + lst + suffix + [self.mask_token] * (self.query_maxlen - (len(lst)+3)) for lst in tokens]\n",
        "\n",
        "        return tokens\n",
        "\n",
        "    def encode(self, batch_text, add_special_tokens=False):\n",
        "        assert type(batch_text) in [list, tuple], (type(batch_text))\n",
        "\n",
        "        ids = self.tok(batch_text, add_special_tokens=False)['input_ids']\n",
        "\n",
        "        if not add_special_tokens:\n",
        "            return ids\n",
        "\n",
        "        prefix, suffix = [self.cls_token_id], [self.sep_token_id]\n",
        "        ids = [prefix + lst + suffix + [self.mask_token_id] * (self.query_maxlen - (len(lst)+3)) for lst in ids]\n",
        "\n",
        "        return ids\n",
        "\n",
        "    def tensorize(self, batch_text, bsize=None):\n",
        "        assert type(batch_text) in [list, tuple], (type(batch_text))\n",
        "\n",
        "        obj = self.tok(batch_text, padding='max_length', truncation=True,\n",
        "                       return_tensors='pt', max_length=self.query_maxlen)\n",
        "\n",
        "        ids, mask = obj['input_ids'], obj['attention_mask']\n",
        "\n",
        "        ids[ids == 0] = self.mask_token_id\n",
        "\n",
        "        if bsize:\n",
        "            batches = _split_into_batches(ids, mask, bsize)\n",
        "            return batches\n",
        "\n",
        "        return ids, mask\n",
        "\n",
        "# ================\n",
        "# ✨ DocTokenizer\n",
        "# ================\n",
        "class DocTokenizer():\n",
        "    def __init__(self, doc_maxlen, path_tokenizer):\n",
        "        self.tok = BertTokenizerFast.from_pretrained(path_tokenizer)\n",
        "        self.doc_maxlen = doc_maxlen\n",
        "\n",
        "        self.cls_token, self.cls_token_id = self.tok.cls_token, self.tok.cls_token_id\n",
        "        self.sep_token, self.sep_token_id = self.tok.sep_token, self.tok.sep_token_id\n",
        "\n",
        "    def tokenize(self, batch_text, add_special_tokens=False):\n",
        "        assert type(batch_text) in [list, tuple], (type(batch_text))\n",
        "\n",
        "        tokens = [self.tok.tokenize(x, add_special_tokens=False) for x in batch_text]\n",
        "\n",
        "        if not add_special_tokens:\n",
        "            return tokens\n",
        "\n",
        "        prefix, suffix = [self.cls_token], [self.sep_token]\n",
        "        tokens = [prefix + lst + suffix for lst in tokens]\n",
        "\n",
        "        return tokens\n",
        "\n",
        "    def encode(self, batch_text, add_special_tokens=False):\n",
        "        assert type(batch_text) in [list, tuple], (type(batch_text))\n",
        "\n",
        "        ids = self.tok(batch_text, add_special_tokens=False)['input_ids']\n",
        "\n",
        "        if not add_special_tokens:\n",
        "            return ids\n",
        "\n",
        "        prefix, suffix = [self.cls_token_id], [self.sep_token_id]\n",
        "        ids = [prefix + lst + suffix for lst in ids]\n",
        "\n",
        "        return ids\n",
        "\n",
        "    def tensorize(self, batch_text, bsize=None):\n",
        "        assert type(batch_text) in [list, tuple], (type(batch_text))\n",
        "\n",
        "        obj = self.tok(batch_text, padding='longest', truncation='longest_first',\n",
        "                       return_tensors='pt', max_length=self.doc_maxlen)\n",
        "\n",
        "        ids, mask = obj['input_ids'], obj['attention_mask']\n",
        "\n",
        "        if bsize:\n",
        "            ids, mask, reverse_indices = _sort_by_length(ids, mask, bsize)\n",
        "            batches = _split_into_batches(ids, mask, bsize)\n",
        "            return batches, reverse_indices\n",
        "\n",
        "        return ids, mask\n",
        "\n",
        "# =====================\n",
        "# ✨ tensorize triples\n",
        "# =====================\n",
        "def tensorize_triples(query_tokenizer, doc_tokenizer, queries, positives, negatives, bsize):\n",
        "    assert len(queries) == len(positives) == len(negatives)\n",
        "    assert bsize is None or len(queries) % bsize == 0\n",
        "\n",
        "    N = len(queries)\n",
        "    assert bsize == N\n",
        "    Q_ids, Q_mask = query_tokenizer.tensorize(queries)\n",
        "    D_ids, D_mask = doc_tokenizer.tensorize(positives + negatives)\n",
        "    D_ids, D_mask = D_ids.view(2, N, -1), D_mask.view(2, N, -1)\n",
        "\n",
        "    # Compute max among {length of i^th positive, length of i^th negative} for i \\in N\n",
        "    maxlens = D_mask.sum(-1).max(0).values\n",
        "\n",
        "    # Sort by maxlens\n",
        "    indices = maxlens.sort().indices\n",
        "    Q_ids, Q_mask = Q_ids[indices], Q_mask[indices]\n",
        "    D_ids, D_mask = D_ids[:, indices], D_mask[:, indices]\n",
        "\n",
        "    (positive_ids, negative_ids), (positive_mask, negative_mask) = D_ids, D_mask\n",
        "\n",
        "    query_batches = _split_into_batches(Q_ids, Q_mask, bsize)\n",
        "    positive_batches = _split_into_batches(positive_ids, positive_mask, bsize)\n",
        "    negative_batches = _split_into_batches(negative_ids, negative_mask, bsize)\n",
        "\n",
        "    batches = []\n",
        "    for (q_ids, q_mask), (p_ids, p_mask), (n_ids, n_mask) in zip(query_batches, positive_batches, negative_batches):\n",
        "        Q = (torch.cat((q_ids, q_ids)), torch.cat((q_mask, q_mask)))\n",
        "        D = (torch.cat((p_ids, n_ids)), torch.cat((p_mask, n_mask)))\n",
        "        batches.append((Q, D))\n",
        "\n",
        "    return batches\n",
        "\n",
        "# =============\n",
        "# ✨ Aux funcs\n",
        "# =============\n",
        "def _sort_by_length(ids, mask, bsize):\n",
        "    if ids.size(0) <= bsize:\n",
        "        return ids, mask, torch.arange(ids.size(0))\n",
        "\n",
        "    indices = mask.sum(-1).sort().indices\n",
        "    reverse_indices = indices.sort().indices\n",
        "\n",
        "    return ids[indices], mask[indices], reverse_indices\n",
        "\n",
        "def _split_into_batches(ids, mask, bsize):\n",
        "    batches = []\n",
        "    for offset in range(0, ids.size(0), bsize):\n",
        "        batches.append((ids[offset:offset+bsize], mask[offset:offset+bsize]))\n",
        "\n",
        "    return batches\n",
        "\n",
        "# ===============\n",
        "# ✨ LazyBatcher\n",
        "# ===============\n",
        "class LazyBatcher():\n",
        "    def __init__(self, bsize, path, path_tokenizer, query_maxlen, doc_maxlen, mode='train', accumsteps=1):\n",
        "        self.bsize, self.accumsteps = bsize, accumsteps\n",
        "        self.query_tokenizer = QueryTokenizer(query_maxlen=query_maxlen, path_tokenizer=path_tokenizer)\n",
        "        self.doc_tokenizer = DocTokenizer(doc_maxlen=doc_maxlen, path_tokenizer=path_tokenizer)\n",
        "        self.tensorize_triples = partial(tensorize_triples, self.query_tokenizer, self.doc_tokenizer)\n",
        "        self.position = 0\n",
        "        self.mode = mode\n",
        "\n",
        "        self.triples = self._load_triples(path_base)\n",
        "        self.queries = self._load_queries(path_base)\n",
        "        self.collection = self._load_collection(path_base)\n",
        "    \n",
        "    def _load_triples(self, path):\n",
        "        if self.mode == 'train':\n",
        "            path = path+'data/df_FAQ_triplet_IDS_TRAIN.parquet.gzip'\n",
        "        elif self.mode == 'valid':\n",
        "            path = path+'data/df_FAQ_triplet_IDS_VALID.parquet.gzip'\n",
        "\n",
        "        df_triplet = pd.read_parquet(path)\n",
        "        triples = []\n",
        "        for qid, pos_pid, neg_pid in zip(\n",
        "            df_triplet.qid.values,\n",
        "            df_triplet.pos_pid.values,\n",
        "            df_triplet.neg_pid.values\n",
        "            ):\n",
        "            triples.append((qid, pos_pid, neg_pid))\n",
        "\n",
        "        return triples\n",
        "\n",
        "    def _load_queries(self, path):\n",
        "        if self.mode == 'train':\n",
        "            qid_to_query_train = path+'data/qid_to_query_TRAIN'\n",
        "            return pickle_file(qid_to_query_train)\n",
        "        elif self.mode == 'valid':\n",
        "            qid_to_query_valid = path+'data/qid_to_query_VALID'\n",
        "            return pickle_file(qid_to_query_valid)\n",
        "\n",
        "    def _load_collection(self, path):\n",
        "        if self.mode == 'train':\n",
        "            pid_to_doc_train = path+'data/pid_to_doc_TRAIN'\n",
        "            return pickle_file(pid_to_doc_train)\n",
        "        elif self.mode == 'valid':\n",
        "            pid_to_doc_valid = path+'data/pid_to_doc_VALID'\n",
        "            return pickle_file(pid_to_doc_valid)\n",
        "        \n",
        "\n",
        "    def __iter__(self):\n",
        "        return self\n",
        "\n",
        "    def __len__(self):\n",
        "        return len(self.triples)\n",
        "\n",
        "    def __next__(self):\n",
        "        # offsets determines the starting index position of each bag (sequence) in input.\n",
        "        offset, endpos = self.position, min(self.position + self.bsize, len(self.triples))\n",
        "        self.position = endpos\n",
        "\n",
        "        if offset + self.bsize > len(self.triples):\n",
        "            raise StopIteration\n",
        "\n",
        "        queries, positives, negatives = [], [], []\n",
        "\n",
        "        for position in range(offset, endpos):\n",
        "            query, pos, neg = self.triples[position]\n",
        "            query, pos, neg = self.queries[query], self.collection[pos], self.collection[neg]\n",
        "            queries.append(query)\n",
        "            positives.append(pos)\n",
        "            negatives.append(neg)\n",
        "\n",
        "        return self.collate(queries, positives, negatives)\n",
        "\n",
        "    def collate(self, queries, positives, negatives):\n",
        "        assert len(queries) == len(positives) == len(negatives) == self.bsize\n",
        "\n",
        "        return self.tensorize_triples(queries, positives, negatives, self.bsize // self.accumsteps)\n",
        "\n",
        "# - - - - -\n",
        "dataloader_train = LazyBatcher(\n",
        "    bsize=bsize, \n",
        "    path=path_base, \n",
        "    path_tokenizer=path_model,\n",
        "    query_maxlen=query_maxlen,\n",
        "    doc_maxlen=doc_maxlen,\n",
        "    mode='train'\n",
        "    )\n",
        "print('batches:')\n",
        "for i, batches in enumerate(dataloader_train):\n",
        "    print(f' {i }.', end ='')"
      ],
      "execution_count": null,
      "outputs": [
        {
          "output_type": "display_data",
          "data": {
            "application/vnd.jupyter.widget-view+json": {
              "model_id": "31569bf627624b69b86785a3a4baf67e",
              "version_minor": 0,
              "version_major": 2
            },
            "text/plain": [
              "HBox(children=(FloatProgress(value=0.0, description='Downloading', max=871891.0, style=ProgressStyle(descripti…"
            ]
          },
          "metadata": {
            "tags": []
          }
        },
        {
          "output_type": "stream",
          "text": [
            "\n"
          ],
          "name": "stdout"
        },
        {
          "output_type": "display_data",
          "data": {
            "application/vnd.jupyter.widget-view+json": {
              "model_id": "2db2fb4cc1aa4233a770972865dfde1f",
              "version_minor": 0,
              "version_major": 2
            },
            "text/plain": [
              "HBox(children=(FloatProgress(value=0.0, description='Downloading', max=1715180.0, style=ProgressStyle(descript…"
            ]
          },
          "metadata": {
            "tags": []
          }
        },
        {
          "output_type": "stream",
          "text": [
            "\n"
          ],
          "name": "stdout"
        },
        {
          "output_type": "display_data",
          "data": {
            "application/vnd.jupyter.widget-view+json": {
              "model_id": "fd7454f7e7a34556bbd88fc3dbbae442",
              "version_minor": 0,
              "version_major": 2
            },
            "text/plain": [
              "HBox(children=(FloatProgress(value=0.0, description='Downloading', max=28.0, style=ProgressStyle(description_w…"
            ]
          },
          "metadata": {
            "tags": []
          }
        },
        {
          "output_type": "stream",
          "text": [
            "\n",
            "batch:\n",
            " 0. 1. 2. 3. 4. 5. 6. 7. 8. 9. 10. 11. 12. 13. 14. 15. 16. 17. 18. 19. 20. 21. 22. 23. 24. 25. 26. 27. 28. 29. 30. 31. 32. 33. 34. 35. 36. 37."
          ],
          "name": "stdout"
        }
      ]
    },
    {
      "cell_type": "markdown",
      "metadata": {
        "id": "fRscnioMUfpC"
      },
      "source": [
        "# Train\n",
        "### Model"
      ]
    },
    {
      "cell_type": "code",
      "metadata": {
        "colab": {
          "base_uri": "https://localhost:8080/"
        },
        "id": "Rb_0WNfAsySF",
        "outputId": "f8e191c9-65a0-4685-d4bd-2b140e550d77"
      },
      "source": [
        "# =======================\n",
        "# ✨ step 0: get a batch\n",
        "# =======================\n",
        "dataloader_train = LazyBatcher(\n",
        "    bsize=bsize, \n",
        "    path=path_base, \n",
        "    path_tokenizer=path_model,\n",
        "    query_maxlen=query_maxlen,\n",
        "    doc_maxlen=doc_maxlen,\n",
        "    mode='train'\n",
        "    )\n",
        "\n",
        "dl_0 = next(iter(dataloader_train))\n",
        "\n",
        "for i, (queries, passages) in enumerate(dl_0):\n",
        "    if i==0: break\n",
        "q_input_ids, q_attention_mask = queries\n",
        "print('q_input_ids', q_input_ids.shape)\n",
        "print('q_attention_mask', q_attention_mask.shape, '\\n')\n",
        "\n",
        "d_input_ids, d_attention_mask = passages\n",
        "print('d_input_ids',d_input_ids.shape)\n",
        "print('d_attention_mask', d_attention_mask.shape)   "
      ],
      "execution_count": null,
      "outputs": [
        {
          "output_type": "stream",
          "text": [
            "q_input_ids torch.Size([32, 48])\n",
            "q_attention_mask torch.Size([32, 48]) \n",
            "\n",
            "d_input_ids torch.Size([32, 128])\n",
            "d_attention_mask torch.Size([32, 128])\n"
          ],
          "name": "stdout"
        }
      ]
    },
    {
      "cell_type": "code",
      "metadata": {
        "colab": {
          "base_uri": "https://localhost:8080/",
          "height": 186,
          "referenced_widgets": [
            "3c279a1135f64c00b48f1da0bc69f3c1",
            "f45683a78b764ae0844f7b92cf4a577c",
            "e4c042d237a74eb8b998f6f6a1219010",
            "64d9226f1a524f5b85d70602fa1bfb0b",
            "2cf99dd2b9384206a93152744b567831",
            "a170e5a2720645cb9fb3155b798f5c3f",
            "e378859d0d5546329459a32773e9b923",
            "2bee0351293140ab8727239a395bce2b",
            "82fcb109657e49efa69c98681233b907",
            "4e677352afcd46feacbf5de5e6b8bbbf",
            "7dbdf8ac3ed14639915adaf3d5d06c7c",
            "2f336df8c34447d4a5f0d3b9957e56e1",
            "88a239767ce04e61bc86d2beb11a79c2",
            "033b4bfdc9b3433da911f1d37bfed31e",
            "fe890ad7ebbc4393a88749521b512152",
            "a91a65be7b9d4d5892fa149bf93062c0"
          ]
        },
        "id": "JN5KFA3Up4e9",
        "outputId": "5f23de8c-2f98-4e18-835a-e7f7ef4042ce"
      },
      "source": [
        "try:\n",
        "    del model\n",
        "    gc.collect()\n",
        "    torch.cuda.empty_cache()\n",
        "except:\n",
        "    pass\n",
        "\n",
        "# =============================\n",
        "# ✨ step 0.1: init BERT Model\n",
        "# =============================\n",
        "model = BertModel.from_pretrained(path_model, return_dict=True)\n",
        "\n",
        "# =================================\n",
        "# ✨ step 0.2: buila a desen layer\n",
        "# =================================\n",
        "linear = torch.nn.Linear(model.config.hidden_size, 128, bias=False)"
      ],
      "execution_count": null,
      "outputs": [
        {
          "output_type": "display_data",
          "data": {
            "application/vnd.jupyter.widget-view+json": {
              "model_id": "3c279a1135f64c00b48f1da0bc69f3c1",
              "version_minor": 0,
              "version_major": 2
            },
            "text/plain": [
              "HBox(children=(FloatProgress(value=0.0, description='Downloading', max=625.0, style=ProgressStyle(description_…"
            ]
          },
          "metadata": {
            "tags": []
          }
        },
        {
          "output_type": "stream",
          "text": [
            "\n"
          ],
          "name": "stdout"
        },
        {
          "output_type": "display_data",
          "data": {
            "application/vnd.jupyter.widget-view+json": {
              "model_id": "82fcb109657e49efa69c98681233b907",
              "version_minor": 0,
              "version_major": 2
            },
            "text/plain": [
              "HBox(children=(FloatProgress(value=0.0, description='Downloading', max=672271273.0, style=ProgressStyle(descri…"
            ]
          },
          "metadata": {
            "tags": []
          }
        },
        {
          "output_type": "stream",
          "text": [
            "\n"
          ],
          "name": "stdout"
        },
        {
          "output_type": "stream",
          "text": [
            "Some weights of the model checkpoint at bert-base-multilingual-uncased were not used when initializing BertModel: ['cls.predictions.transform.LayerNorm.bias', 'cls.predictions.transform.dense.weight', 'cls.predictions.decoder.weight', 'cls.predictions.bias', 'cls.predictions.transform.dense.bias', 'cls.seq_relationship.weight', 'cls.predictions.transform.LayerNorm.weight', 'cls.seq_relationship.bias']\n",
            "- This IS expected if you are initializing BertModel from the checkpoint of a model trained on another task or with another architecture (e.g. initializing a BertForSequenceClassification model from a BertForPreTraining model).\n",
            "- This IS NOT expected if you are initializing BertModel from the checkpoint of a model that you expect to be exactly identical (initializing a BertForSequenceClassification model from a BertForSequenceClassification model).\n"
          ],
          "name": "stderr"
        }
      ]
    },
    {
      "cell_type": "markdown",
      "metadata": {
        "id": "EH1gKpWRunwA"
      },
      "source": [
        "# Prepare Q "
      ]
    },
    {
      "cell_type": "code",
      "metadata": {
        "colab": {
          "base_uri": "https://localhost:8080/"
        },
        "id": "P8JLVf4pp4cj",
        "outputId": "5d2e7519-84c9-466c-8275-114920c03bb7"
      },
      "source": [
        "# ============================================================\n",
        "# ✨ step 0: input the input_ids and attention_mask into BERT\n",
        "# ============================================================\n",
        "outs = model(input_ids=q_input_ids, attention_mask=q_attention_mask)\n",
        "Q = outs['last_hidden_state']\n",
        "Q.shape"
      ],
      "execution_count": null,
      "outputs": [
        {
          "output_type": "execute_result",
          "data": {
            "text/plain": [
              "torch.Size([32, 48, 768])"
            ]
          },
          "metadata": {
            "tags": []
          },
          "execution_count": 7
        }
      ]
    },
    {
      "cell_type": "code",
      "metadata": {
        "colab": {
          "base_uri": "https://localhost:8080/"
        },
        "id": "_XAlx3Q0p4Z8",
        "outputId": "0e374d35-892b-4651-9415-f5d5bd7d98ea"
      },
      "source": [
        "# ========================================\n",
        "# ✨ step 1: perform Q in the dense layer\n",
        "# ========================================\n",
        "Q = linear(Q)\n",
        "Q.shape"
      ],
      "execution_count": null,
      "outputs": [
        {
          "output_type": "execute_result",
          "data": {
            "text/plain": [
              "torch.Size([32, 48, 128])"
            ]
          },
          "metadata": {
            "tags": []
          },
          "execution_count": 8
        }
      ]
    },
    {
      "cell_type": "code",
      "metadata": {
        "colab": {
          "base_uri": "https://localhost:8080/"
        },
        "id": "TLb94IuRp4XY",
        "outputId": "429987de-1398-4935-a171-c282f6285175"
      },
      "source": [
        "# ===========================\n",
        "# ✨ step 2: normalize in L2\n",
        "# ===========================\n",
        "Q = torch.nn.functional.normalize(Q, p=2, dim=2)\n",
        "Q.shape"
      ],
      "execution_count": null,
      "outputs": [
        {
          "output_type": "execute_result",
          "data": {
            "text/plain": [
              "torch.Size([32, 48, 128])"
            ]
          },
          "metadata": {
            "tags": []
          },
          "execution_count": 9
        }
      ]
    },
    {
      "cell_type": "markdown",
      "metadata": {
        "id": "lBv52Tqnp4VT"
      },
      "source": [
        "# Prepare D"
      ]
    },
    {
      "cell_type": "code",
      "metadata": {
        "colab": {
          "base_uri": "https://localhost:8080/"
        },
        "id": "Sv_4Leyvp4Sx",
        "outputId": "dfe975de-7963-4c55-fa6a-05424b7d5291"
      },
      "source": [
        "# ========================================================\n",
        "# ✨ step 0: input input_ids and attention_mask into BERT\n",
        "# ========================================================\n",
        "outs = model(input_ids=d_input_ids, attention_mask=d_attention_mask)\n",
        "D = outs['last_hidden_state']\n",
        "D.shape"
      ],
      "execution_count": null,
      "outputs": [
        {
          "output_type": "execute_result",
          "data": {
            "text/plain": [
              "torch.Size([32, 128, 768])"
            ]
          },
          "metadata": {
            "tags": []
          },
          "execution_count": 10
        }
      ]
    },
    {
      "cell_type": "code",
      "metadata": {
        "colab": {
          "base_uri": "https://localhost:8080/"
        },
        "id": "AXmCWW-tp4Qg",
        "outputId": "1d9837ee-58b9-4fc4-9abe-99fbc54209aa"
      },
      "source": [
        "# ========================================\n",
        "# ✨ step 1: perform D in the dense layer\n",
        "# ========================================\n",
        "D = linear(D)\n",
        "D.shape"
      ],
      "execution_count": null,
      "outputs": [
        {
          "output_type": "execute_result",
          "data": {
            "text/plain": [
              "torch.Size([32, 128, 128])"
            ]
          },
          "metadata": {
            "tags": []
          },
          "execution_count": 11
        }
      ]
    },
    {
      "cell_type": "code",
      "metadata": {
        "colab": {
          "base_uri": "https://localhost:8080/"
        },
        "id": "Q0_4QhtIp4Oa",
        "outputId": "af11dfad-16f3-4560-c0e9-b05a54b3d6e1"
      },
      "source": [
        "# ==============================\n",
        "# ✨ step 2: filter D with mask\n",
        "# ==============================\n",
        "mask = torch.tensor([[(x != 0) for x in d] for d in d_input_ids.cpu().tolist()])\n",
        "print(mask.shape)\n",
        "D = D * mask.unsqueeze(2).float()\n",
        "print(D.shape)\n",
        "\n",
        "# ===========================\n",
        "# ✨ step 3: normalize in L2\n",
        "# ===========================\n",
        "D = torch.nn.functional.normalize(D, p=2, dim=2)\n",
        "D.shape"
      ],
      "execution_count": null,
      "outputs": [
        {
          "output_type": "stream",
          "text": [
            "torch.Size([32, 128])\n",
            "torch.Size([32, 128, 128])\n"
          ],
          "name": "stdout"
        },
        {
          "output_type": "execute_result",
          "data": {
            "text/plain": [
              "torch.Size([32, 128, 128])"
            ]
          },
          "metadata": {
            "tags": []
          },
          "execution_count": 12
        }
      ]
    },
    {
      "cell_type": "markdown",
      "metadata": {
        "id": "peAovi3gp4KB"
      },
      "source": [
        "# Get the score between Q and D"
      ]
    },
    {
      "cell_type": "code",
      "metadata": {
        "colab": {
          "base_uri": "https://localhost:8080/"
        },
        "id": "Avs1uP1gp4H5",
        "outputId": "03837f99-5a79-45c1-bf76-80f118238a70"
      },
      "source": [
        "# ==========\n",
        "# ✨ step 0: \n",
        "# ==========\n",
        "print(f'Q shape: {Q.size()} -- D shape: {D.size()}\\n')\n",
        "\n",
        "scores = torch.einsum('abc, adc -> abd', Q, D)\n",
        "print(f'Score shape:                       {scores.size()}')\n",
        "\n",
        "scores = scores.max(2)\n",
        "print(f'Scores.max(2).values shape:        {scores.values.size()}')\n",
        "\n",
        "scores = scores.values.sum(1)\n",
        "print(f'Scores.max(2).values.sum(1) shape: {scores.size()}')\n",
        "\n",
        "print(f'Scores: {[float(str(s.item())[:7]) for s in scores]:}')"
      ],
      "execution_count": null,
      "outputs": [
        {
          "output_type": "stream",
          "text": [
            "Q shape: torch.Size([32, 48, 128]) -- D shape: torch.Size([32, 128, 128])\n",
            "\n",
            "Score shape:                       torch.Size([32, 48, 128])\n",
            "Scores.max(2).values shape:        torch.Size([32, 48])\n",
            "Scores.max(2).values.sum(1) shape: torch.Size([32])\n",
            "Scores: [32.9297, 30.2123, 33.2069, 42.3434, 26.3653, 34.8422, 33.7496, 30.2646, 32.624, 30.8361, 27.914, 34.2535, 28.7218, 31.8257, 32.0632, 32.5547, 29.2759, 23.2356, 27.2142, 23.6811, 25.1725, 29.007, 28.0527, 25.8241, 27.9958, 28.2469, 26.3455, 28.763, 27.407, 26.5836, 28.0287, 26.7049]\n"
          ],
          "name": "stdout"
        }
      ]
    },
    {
      "cell_type": "markdown",
      "metadata": {
        "id": "bXv8OowN1h1P"
      },
      "source": [
        "# Otimization"
      ]
    },
    {
      "cell_type": "code",
      "metadata": {
        "colab": {
          "base_uri": "https://localhost:8080/"
        },
        "id": "l-PUt6c0pxlz",
        "outputId": "4c234f25-386b-4960-a7bc-e9c3db695c96"
      },
      "source": [
        "# ==============================================================\n",
        "# ✨ step 0: build pseudo-labels for the classe 0 (torch zeros)\n",
        "# ==============================================================\n",
        "# labels has the size of the batch bsize\n",
        "labels = torch.zeros(bsize, dtype=torch.long)\n",
        "print('labels shape', labels.shape, '\\n')"
      ],
      "execution_count": null,
      "outputs": [
        {
          "output_type": "stream",
          "text": [
            "labels shape torch.Size([16]) \n",
            "\n"
          ],
          "name": "stdout"
        }
      ]
    },
    {
      "cell_type": "code",
      "metadata": {
        "colab": {
          "base_uri": "https://localhost:8080/"
        },
        "id": "Xq23gr9p2PvV",
        "outputId": "018336b9-8275-472d-cf7a-68ae4dfe1e1d"
      },
      "source": [
        "# ==============================\n",
        "# ✨ step 1: reshap the  scores\n",
        "# ==============================\n",
        "scores = scores.view(2, -1).permute(1, 0)\n",
        "print(scores.shape)\n",
        "scores"
      ],
      "execution_count": null,
      "outputs": [
        {
          "output_type": "stream",
          "text": [
            "torch.Size([16, 2])\n"
          ],
          "name": "stdout"
        },
        {
          "output_type": "execute_result",
          "data": {
            "text/plain": [
              "tensor([[32.9297, 29.2759],\n",
              "        [30.2123, 23.2356],\n",
              "        [33.2070, 27.2143],\n",
              "        [42.3435, 23.6811],\n",
              "        [26.3653, 25.1725],\n",
              "        [34.8423, 29.0071],\n",
              "        [33.7497, 28.0528],\n",
              "        [30.2647, 25.8242],\n",
              "        [32.6241, 27.9959],\n",
              "        [30.8361, 28.2470],\n",
              "        [27.9140, 26.3455],\n",
              "        [34.2535, 28.7630],\n",
              "        [28.7219, 27.4071],\n",
              "        [31.8258, 26.5837],\n",
              "        [32.0633, 28.0287],\n",
              "        [32.5547, 26.7050]], grad_fn=<PermuteBackward>)"
            ]
          },
          "metadata": {
            "tags": []
          },
          "execution_count": 17
        }
      ]
    },
    {
      "cell_type": "code",
      "metadata": {
        "colab": {
          "base_uri": "https://localhost:8080/"
        },
        "id": "eBx_92kIoj9Z",
        "outputId": "a4f6c9da-0d6d-4692-c9c4-68f37fa57946"
      },
      "source": [
        "# ====================\n",
        "# ✨ step 2: get loss\n",
        "# ====================\n",
        "# init the CE Loss\n",
        "criterion = torch.nn.CrossEntropyLoss()\n",
        "loss = criterion(scores, labels[:scores.size(0)])\n",
        "loss.item()"
      ],
      "execution_count": null,
      "outputs": [
        {
          "output_type": "execute_result",
          "data": {
            "text/plain": [
              "0.05318648740649223"
            ]
          },
          "metadata": {
            "tags": []
          },
          "execution_count": 18
        }
      ]
    },
    {
      "cell_type": "markdown",
      "metadata": {
        "id": "C6WviIjcW2O0"
      },
      "source": [
        "# In class format"
      ]
    },
    {
      "cell_type": "code",
      "metadata": {
        "id": "7Phb7c_Y4Plt"
      },
      "source": [
        "# ===========\n",
        "# ✨ ColBERT\n",
        "# ===========\n",
        "class ColBERT(BertPreTrainedModel):\n",
        "    def __init__(self, config, query_maxlen, doc_maxlen, mask_punctuation, dim=128, similarity_metric='cosine'):\n",
        "\n",
        "        super(ColBERT, self).__init__(config)\n",
        "\n",
        "        self.query_maxlen = query_maxlen\n",
        "        self.doc_maxlen = doc_maxlen\n",
        "        self.similarity_metric = similarity_metric\n",
        "        self.dim = dim\n",
        "\n",
        "        self.mask_punctuation = mask_punctuation\n",
        "        self.skiplist = {}\n",
        "\n",
        "        if self.mask_punctuation:\n",
        "            self.tokenizer = BertTokenizerFast.from_pretrained(path_model)\n",
        "            self.skiplist = {w: True\n",
        "                             for symbol in string.punctuation\n",
        "                             for w in [symbol, self.tokenizer.encode(symbol, add_special_tokens=False)[0]]}\n",
        "\n",
        "        self.bert = BertModel(config)\n",
        "        self.linear = torch.nn.Linear(config.hidden_size, dim, bias=False)\n",
        "\n",
        "        self.init_weights()\n",
        "\n",
        "    def forward(self, Q, D):\n",
        "        return self.score(self.query(*Q), self.doc(*D))\n",
        "\n",
        "    def query(self, input_ids, attention_mask):\n",
        "        input_ids, attention_mask = input_ids.to(DEVICE), attention_mask.to(DEVICE)\n",
        "        Q = self.bert(input_ids, attention_mask=attention_mask)[0]\n",
        "        Q = self.linear(Q)\n",
        "\n",
        "        return torch.nn.functional.normalize(Q, p=2, dim=2)\n",
        "\n",
        "    def doc(self, input_ids, attention_mask, keep_dims=True):\n",
        "        input_ids, attention_mask = input_ids.to(DEVICE), attention_mask.to(DEVICE)\n",
        "        D = self.bert(input_ids, attention_mask=attention_mask)[0]\n",
        "        D = self.linear(D)\n",
        "\n",
        "        mask = torch.tensor(self.mask(input_ids), device=DEVICE).unsqueeze(2).float()\n",
        "        D = D * mask\n",
        "\n",
        "        D = torch.nn.functional.normalize(D, p=2, dim=2)\n",
        "\n",
        "        if not keep_dims:\n",
        "            D, mask = D.cpu().to(dtype=torch.float16), mask.cpu().bool().squeeze(-1)\n",
        "            D = [d[mask[idx]] for idx, d in enumerate(D)]\n",
        "\n",
        "        return D\n",
        "\n",
        "    def score(self, Q, D):\n",
        "        if self.similarity_metric == 'cosine':\n",
        "            return (Q @ D.permute(0, 2, 1)).max(2).values.sum(1)\n",
        "\n",
        "        assert self.similarity_metric == 'l2'\n",
        "        return (-1.0 * ((Q.unsqueeze(2) - D.unsqueeze(1))**2).sum(-1)).max(-1).values.sum(-1)\n",
        "\n",
        "    def mask(self, input_ids):\n",
        "        mask = [[(x not in self.skiplist) and (x != 0) for x in d] for d in input_ids.cpu().tolist()]\n",
        "        return mask        "
      ],
      "execution_count": null,
      "outputs": []
    },
    {
      "cell_type": "code",
      "metadata": {
        "colab": {
          "base_uri": "https://localhost:8080/"
        },
        "id": "XuoVBjCe47e7",
        "outputId": "c9833837-26a4-44b1-bd40-bd595516cde8"
      },
      "source": [
        "try:\n",
        "    del colbert\n",
        "    gc.collect()\n",
        "    torch.cuda.empty_cache()\n",
        "except:\n",
        "    pass\n",
        "\n",
        "DEVICE = 'cuda'\n",
        "\n",
        "colbert = ColBERT.from_pretrained(\n",
        "    path_model,\n",
        "    query_maxlen=query_maxlen,\n",
        "    doc_maxlen=doc_maxlen,\n",
        "    dim=128,\n",
        "    similarity_metric='cosine',\n",
        "    mask_punctuation=False).to(DEVICE)\n",
        "\n",
        "criterion = torch.nn.CrossEntropyLoss()\n",
        "labels = torch.zeros(bsize, dtype=torch.long)\n",
        "colbert.train()\n",
        "\n",
        "optimizer = torch.optim.AdamW(filter(\n",
        "    lambda p: p.requires_grad, colbert.parameters()), \n",
        "    lr=3e-06, eps=1e-8,\n",
        "    )\n",
        "\n",
        "N_EPOCHS = 3\n",
        "training_stats = []\n",
        "print(f'\\n>>> Training for {N_EPOCHS} epochs <<<\\n')\n",
        "\n",
        "# ==============\n",
        "# ✨ train loop\n",
        "# ==============\n",
        "start_time = time.time()\n",
        "for i in range(1, N_EPOCHS+1):\n",
        "    dataloader_train = LazyBatcher(\n",
        "        bsize=bsize, \n",
        "        path=path_base, \n",
        "        path_tokenizer=path_model,\n",
        "        query_maxlen=query_maxlen,\n",
        "        doc_maxlen=doc_maxlen,\n",
        "        mode='train'\n",
        "    )\n",
        "    # -------- this is the loop ---------\n",
        "    train_loss, epoch_loss = 0.0, []\n",
        "    for batch_number, batches in enumerate(dataloader_train, 1):\n",
        "        print('.', end='')\n",
        "\n",
        "        optimizer.zero_grad()\n",
        "    \n",
        "        queries, passages = batches[0]\n",
        "        scores = colbert(queries, passages).view(2, -1).permute(1, 0)\n",
        "        loss = criterion(scores, labels[:scores.size(0)].to(DEVICE))\n",
        "\n",
        "        train_loss += loss.item()\n",
        "\n",
        "        loss.backward()\n",
        "        optimizer.step()\n",
        "\n",
        "    epoch_loss.append(train_loss)\n",
        "    \n",
        "    # -------- save stats per epoch ---------\n",
        "    training_stats.append(\n",
        "        {\n",
        "            'epoch': i,\n",
        "            'training loss': float(np.array(epoch_loss)/batch_number),\n",
        "        }\n",
        "    )\n",
        "    print(f'\\nEpoch [{i}/{N_EPOCHS}]:')\n",
        "    print(f'\\ttrain loss: {float(np.array(epoch_loss)/batch_number):.4f}')\n",
        "\n",
        "elapsed = float(time.time() - start_time)\n",
        "\n",
        "print('.'*batch_number)\n",
        "print(f'\\nTime spent on training: {elapsed/60: .2f} min')"
      ],
      "execution_count": null,
      "outputs": [
        {
          "output_type": "stream",
          "text": [
            "Some weights of the model checkpoint at bert-base-multilingual-uncased were not used when initializing ColBERT: ['cls.predictions.transform.LayerNorm.bias', 'cls.predictions.transform.dense.weight', 'cls.predictions.decoder.weight', 'cls.predictions.bias', 'cls.predictions.transform.dense.bias', 'cls.seq_relationship.weight', 'cls.predictions.transform.LayerNorm.weight', 'cls.seq_relationship.bias']\n",
            "- This IS expected if you are initializing ColBERT from the checkpoint of a model trained on another task or with another architecture (e.g. initializing a BertForSequenceClassification model from a BertForPreTraining model).\n",
            "- This IS NOT expected if you are initializing ColBERT from the checkpoint of a model that you expect to be exactly identical (initializing a BertForSequenceClassification model from a BertForSequenceClassification model).\n",
            "Some weights of ColBERT were not initialized from the model checkpoint at bert-base-multilingual-uncased and are newly initialized: ['linear.weight']\n",
            "You should probably TRAIN this model on a down-stream task to be able to use it for predictions and inference.\n"
          ],
          "name": "stderr"
        },
        {
          "output_type": "stream",
          "text": [
            "\n",
            ">>> Training for 3 epochs <<<\n",
            "\n",
            "......................................\n",
            "Epoch [1/3]:\n",
            "\ttrain loss: 0.2069\n",
            "......................................\n",
            "Epoch [2/3]:\n",
            "\ttrain loss: 0.1254\n",
            "......................................\n",
            "Epoch [3/3]:\n",
            "\ttrain loss: 0.0813\n",
            "......................................\n",
            "\n",
            "Time spent on training:  1.19 min\n"
          ],
          "name": "stdout"
        }
      ]
    },
    {
      "cell_type": "code",
      "metadata": {
        "colab": {
          "base_uri": "https://localhost:8080/",
          "height": 173
        },
        "id": "zY7avXsgX_xA",
        "outputId": "7b6f1704-d3ef-47f7-ba67-e6c261914e2b"
      },
      "source": [
        "df_stats = pd.DataFrame(data=training_stats)\n",
        "df_stats = df_stats.set_index('epoch')\n",
        "pd.set_option('precision', 3)\n",
        "df_stats"
      ],
      "execution_count": null,
      "outputs": [
        {
          "output_type": "execute_result",
          "data": {
            "text/html": [
              "<div>\n",
              "<style scoped>\n",
              "    .dataframe tbody tr th:only-of-type {\n",
              "        vertical-align: middle;\n",
              "    }\n",
              "\n",
              "    .dataframe tbody tr th {\n",
              "        vertical-align: top;\n",
              "    }\n",
              "\n",
              "    .dataframe thead th {\n",
              "        text-align: right;\n",
              "    }\n",
              "</style>\n",
              "<table border=\"1\" class=\"dataframe\">\n",
              "  <thead>\n",
              "    <tr style=\"text-align: right;\">\n",
              "      <th></th>\n",
              "      <th>training loss</th>\n",
              "    </tr>\n",
              "    <tr>\n",
              "      <th>epoch</th>\n",
              "      <th></th>\n",
              "    </tr>\n",
              "  </thead>\n",
              "  <tbody>\n",
              "    <tr>\n",
              "      <th>1</th>\n",
              "      <td>0.207</td>\n",
              "    </tr>\n",
              "    <tr>\n",
              "      <th>2</th>\n",
              "      <td>0.125</td>\n",
              "    </tr>\n",
              "    <tr>\n",
              "      <th>3</th>\n",
              "      <td>0.081</td>\n",
              "    </tr>\n",
              "  </tbody>\n",
              "</table>\n",
              "</div>"
            ],
            "text/plain": [
              "       training loss\n",
              "epoch               \n",
              "1              0.207\n",
              "2              0.125\n",
              "3              0.081"
            ]
          },
          "metadata": {
            "tags": []
          },
          "execution_count": 21
        }
      ]
    },
    {
      "cell_type": "code",
      "metadata": {
        "id": "vwhP0vbrbJl9"
      },
      "source": [
        "SAVE = True\n",
        "\n",
        "if SAVE:\n",
        "    torch.save(colbert.state_dict(), path_base+'data/EPOCH_3_FAQ')"
      ],
      "execution_count": null,
      "outputs": []
    },
    {
      "cell_type": "code",
      "metadata": {
        "colab": {
          "base_uri": "https://localhost:8080/"
        },
        "id": "-z3WiBlqF6ri",
        "outputId": "aa73df22-51df-4897-fdee-d65d11273fc7"
      },
      "source": [
        "# ===================================\n",
        "# ✨ test load model from checkpoint\n",
        "# ===================================\n",
        "colbert = ColBERT.from_pretrained(\n",
        "    path_model,\n",
        "    query_maxlen=query_maxlen,\n",
        "    doc_maxlen=doc_maxlen,\n",
        "    dim=128,\n",
        "    similarity_metric='cosine',\n",
        "    mask_punctuation=False).to(DEVICE)\n",
        "\n",
        "colbert.load_state_dict(torch.load(path_base+'data/EPOCH_3_FAQ'))"
      ],
      "execution_count": null,
      "outputs": [
        {
          "output_type": "stream",
          "text": [
            "Some weights of the model checkpoint at bert-base-multilingual-uncased were not used when initializing ColBERT: ['cls.predictions.transform.LayerNorm.bias', 'cls.predictions.transform.dense.weight', 'cls.predictions.decoder.weight', 'cls.predictions.bias', 'cls.predictions.transform.dense.bias', 'cls.seq_relationship.weight', 'cls.predictions.transform.LayerNorm.weight', 'cls.seq_relationship.bias']\n",
            "- This IS expected if you are initializing ColBERT from the checkpoint of a model trained on another task or with another architecture (e.g. initializing a BertForSequenceClassification model from a BertForPreTraining model).\n",
            "- This IS NOT expected if you are initializing ColBERT from the checkpoint of a model that you expect to be exactly identical (initializing a BertForSequenceClassification model from a BertForSequenceClassification model).\n",
            "Some weights of ColBERT were not initialized from the model checkpoint at bert-base-multilingual-uncased and are newly initialized: ['linear.weight']\n",
            "You should probably TRAIN this model on a down-stream task to be able to use it for predictions and inference.\n"
          ],
          "name": "stderr"
        },
        {
          "output_type": "execute_result",
          "data": {
            "text/plain": [
              "<All keys matched successfully>"
            ]
          },
          "metadata": {
            "tags": []
          },
          "execution_count": 24
        }
      ]
    },
    {
      "cell_type": "code",
      "metadata": {
        "id": "4MGw3y7hXol3"
      },
      "source": [
        ""
      ],
      "execution_count": null,
      "outputs": []
    }
  ]
}