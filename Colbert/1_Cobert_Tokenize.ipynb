{
  "nbformat": 4,
  "nbformat_minor": 0,
  "metadata": {
    "colab": {
      "name": "1 - Cobert-Tokenize.ipynb",
      "provenance": [],
      "collapsed_sections": [],
      "toc_visible": true,
      "mount_file_id": "1pWYgSr9PTnmYWAhX_XC1HrqhZ1xecsFb",
      "authorship_tag": "ABX9TyMvjKTWn1Yx+JqRjESp1ZP2",
      "include_colab_link": true
    },
    "kernelspec": {
      "name": "python3",
      "display_name": "Python 3"
    },
    "language_info": {
      "name": "python"
    },
    "widgets": {
      "application/vnd.jupyter.widget-state+json": {
        "4979f6390a8945afadb625e2f053b0b0": {
          "model_module": "@jupyter-widgets/controls",
          "model_name": "HBoxModel",
          "state": {
            "_view_name": "HBoxView",
            "_dom_classes": [],
            "_model_name": "HBoxModel",
            "_view_module": "@jupyter-widgets/controls",
            "_model_module_version": "1.5.0",
            "_view_count": null,
            "_view_module_version": "1.5.0",
            "box_style": "",
            "layout": "IPY_MODEL_a214829d472644e495032c580596bc47",
            "_model_module": "@jupyter-widgets/controls",
            "children": [
              "IPY_MODEL_c8e796c859ad4b8283ff94581e6de408",
              "IPY_MODEL_6e78b11b14074a57a4dd46090b135ece"
            ]
          }
        },
        "a214829d472644e495032c580596bc47": {
          "model_module": "@jupyter-widgets/base",
          "model_name": "LayoutModel",
          "state": {
            "_view_name": "LayoutView",
            "grid_template_rows": null,
            "right": null,
            "justify_content": null,
            "_view_module": "@jupyter-widgets/base",
            "overflow": null,
            "_model_module_version": "1.2.0",
            "_view_count": null,
            "flex_flow": null,
            "width": null,
            "min_width": null,
            "border": null,
            "align_items": null,
            "bottom": null,
            "_model_module": "@jupyter-widgets/base",
            "top": null,
            "grid_column": null,
            "overflow_y": null,
            "overflow_x": null,
            "grid_auto_flow": null,
            "grid_area": null,
            "grid_template_columns": null,
            "flex": null,
            "_model_name": "LayoutModel",
            "justify_items": null,
            "grid_row": null,
            "max_height": null,
            "align_content": null,
            "visibility": null,
            "align_self": null,
            "height": null,
            "min_height": null,
            "padding": null,
            "grid_auto_rows": null,
            "grid_gap": null,
            "max_width": null,
            "order": null,
            "_view_module_version": "1.2.0",
            "grid_template_areas": null,
            "object_position": null,
            "object_fit": null,
            "grid_auto_columns": null,
            "margin": null,
            "display": null,
            "left": null
          }
        },
        "c8e796c859ad4b8283ff94581e6de408": {
          "model_module": "@jupyter-widgets/controls",
          "model_name": "FloatProgressModel",
          "state": {
            "_view_name": "ProgressView",
            "style": "IPY_MODEL_edac067062204803beced391a2787d44",
            "_dom_classes": [],
            "description": "Downloading: 100%",
            "_model_name": "FloatProgressModel",
            "bar_style": "success",
            "max": 871891,
            "_view_module": "@jupyter-widgets/controls",
            "_model_module_version": "1.5.0",
            "value": 871891,
            "_view_count": null,
            "_view_module_version": "1.5.0",
            "orientation": "horizontal",
            "min": 0,
            "description_tooltip": null,
            "_model_module": "@jupyter-widgets/controls",
            "layout": "IPY_MODEL_bca1723cdf814dfbaf6a6d1806b64459"
          }
        },
        "6e78b11b14074a57a4dd46090b135ece": {
          "model_module": "@jupyter-widgets/controls",
          "model_name": "HTMLModel",
          "state": {
            "_view_name": "HTMLView",
            "style": "IPY_MODEL_28fb644b09c8466092044096ff4d1fab",
            "_dom_classes": [],
            "description": "",
            "_model_name": "HTMLModel",
            "placeholder": "​",
            "_view_module": "@jupyter-widgets/controls",
            "_model_module_version": "1.5.0",
            "value": " 872k/872k [00:52&lt;00:00, 16.7kB/s]",
            "_view_count": null,
            "_view_module_version": "1.5.0",
            "description_tooltip": null,
            "_model_module": "@jupyter-widgets/controls",
            "layout": "IPY_MODEL_3d13f55e1da243bb92794f3bf04471fb"
          }
        },
        "edac067062204803beced391a2787d44": {
          "model_module": "@jupyter-widgets/controls",
          "model_name": "ProgressStyleModel",
          "state": {
            "_view_name": "StyleView",
            "_model_name": "ProgressStyleModel",
            "description_width": "initial",
            "_view_module": "@jupyter-widgets/base",
            "_model_module_version": "1.5.0",
            "_view_count": null,
            "_view_module_version": "1.2.0",
            "bar_color": null,
            "_model_module": "@jupyter-widgets/controls"
          }
        },
        "bca1723cdf814dfbaf6a6d1806b64459": {
          "model_module": "@jupyter-widgets/base",
          "model_name": "LayoutModel",
          "state": {
            "_view_name": "LayoutView",
            "grid_template_rows": null,
            "right": null,
            "justify_content": null,
            "_view_module": "@jupyter-widgets/base",
            "overflow": null,
            "_model_module_version": "1.2.0",
            "_view_count": null,
            "flex_flow": null,
            "width": null,
            "min_width": null,
            "border": null,
            "align_items": null,
            "bottom": null,
            "_model_module": "@jupyter-widgets/base",
            "top": null,
            "grid_column": null,
            "overflow_y": null,
            "overflow_x": null,
            "grid_auto_flow": null,
            "grid_area": null,
            "grid_template_columns": null,
            "flex": null,
            "_model_name": "LayoutModel",
            "justify_items": null,
            "grid_row": null,
            "max_height": null,
            "align_content": null,
            "visibility": null,
            "align_self": null,
            "height": null,
            "min_height": null,
            "padding": null,
            "grid_auto_rows": null,
            "grid_gap": null,
            "max_width": null,
            "order": null,
            "_view_module_version": "1.2.0",
            "grid_template_areas": null,
            "object_position": null,
            "object_fit": null,
            "grid_auto_columns": null,
            "margin": null,
            "display": null,
            "left": null
          }
        },
        "28fb644b09c8466092044096ff4d1fab": {
          "model_module": "@jupyter-widgets/controls",
          "model_name": "DescriptionStyleModel",
          "state": {
            "_view_name": "StyleView",
            "_model_name": "DescriptionStyleModel",
            "description_width": "",
            "_view_module": "@jupyter-widgets/base",
            "_model_module_version": "1.5.0",
            "_view_count": null,
            "_view_module_version": "1.2.0",
            "_model_module": "@jupyter-widgets/controls"
          }
        },
        "3d13f55e1da243bb92794f3bf04471fb": {
          "model_module": "@jupyter-widgets/base",
          "model_name": "LayoutModel",
          "state": {
            "_view_name": "LayoutView",
            "grid_template_rows": null,
            "right": null,
            "justify_content": null,
            "_view_module": "@jupyter-widgets/base",
            "overflow": null,
            "_model_module_version": "1.2.0",
            "_view_count": null,
            "flex_flow": null,
            "width": null,
            "min_width": null,
            "border": null,
            "align_items": null,
            "bottom": null,
            "_model_module": "@jupyter-widgets/base",
            "top": null,
            "grid_column": null,
            "overflow_y": null,
            "overflow_x": null,
            "grid_auto_flow": null,
            "grid_area": null,
            "grid_template_columns": null,
            "flex": null,
            "_model_name": "LayoutModel",
            "justify_items": null,
            "grid_row": null,
            "max_height": null,
            "align_content": null,
            "visibility": null,
            "align_self": null,
            "height": null,
            "min_height": null,
            "padding": null,
            "grid_auto_rows": null,
            "grid_gap": null,
            "max_width": null,
            "order": null,
            "_view_module_version": "1.2.0",
            "grid_template_areas": null,
            "object_position": null,
            "object_fit": null,
            "grid_auto_columns": null,
            "margin": null,
            "display": null,
            "left": null
          }
        },
        "5b8501c2c94144fd94727404b8d02b8d": {
          "model_module": "@jupyter-widgets/controls",
          "model_name": "HBoxModel",
          "state": {
            "_view_name": "HBoxView",
            "_dom_classes": [],
            "_model_name": "HBoxModel",
            "_view_module": "@jupyter-widgets/controls",
            "_model_module_version": "1.5.0",
            "_view_count": null,
            "_view_module_version": "1.5.0",
            "box_style": "",
            "layout": "IPY_MODEL_0df9d89b6f4647b6a5fd7073763dfe29",
            "_model_module": "@jupyter-widgets/controls",
            "children": [
              "IPY_MODEL_799d0a1df5a4430a9ad96da77664f3a3",
              "IPY_MODEL_8d5c4d6384cc4d2ebe8b891e37c98267"
            ]
          }
        },
        "0df9d89b6f4647b6a5fd7073763dfe29": {
          "model_module": "@jupyter-widgets/base",
          "model_name": "LayoutModel",
          "state": {
            "_view_name": "LayoutView",
            "grid_template_rows": null,
            "right": null,
            "justify_content": null,
            "_view_module": "@jupyter-widgets/base",
            "overflow": null,
            "_model_module_version": "1.2.0",
            "_view_count": null,
            "flex_flow": null,
            "width": null,
            "min_width": null,
            "border": null,
            "align_items": null,
            "bottom": null,
            "_model_module": "@jupyter-widgets/base",
            "top": null,
            "grid_column": null,
            "overflow_y": null,
            "overflow_x": null,
            "grid_auto_flow": null,
            "grid_area": null,
            "grid_template_columns": null,
            "flex": null,
            "_model_name": "LayoutModel",
            "justify_items": null,
            "grid_row": null,
            "max_height": null,
            "align_content": null,
            "visibility": null,
            "align_self": null,
            "height": null,
            "min_height": null,
            "padding": null,
            "grid_auto_rows": null,
            "grid_gap": null,
            "max_width": null,
            "order": null,
            "_view_module_version": "1.2.0",
            "grid_template_areas": null,
            "object_position": null,
            "object_fit": null,
            "grid_auto_columns": null,
            "margin": null,
            "display": null,
            "left": null
          }
        },
        "799d0a1df5a4430a9ad96da77664f3a3": {
          "model_module": "@jupyter-widgets/controls",
          "model_name": "FloatProgressModel",
          "state": {
            "_view_name": "ProgressView",
            "style": "IPY_MODEL_a9ad0aca48fb47178ed8f1231cc38772",
            "_dom_classes": [],
            "description": "Downloading: 100%",
            "_model_name": "FloatProgressModel",
            "bar_style": "success",
            "max": 1715180,
            "_view_module": "@jupyter-widgets/controls",
            "_model_module_version": "1.5.0",
            "value": 1715180,
            "_view_count": null,
            "_view_module_version": "1.5.0",
            "orientation": "horizontal",
            "min": 0,
            "description_tooltip": null,
            "_model_module": "@jupyter-widgets/controls",
            "layout": "IPY_MODEL_671a91031b0044b08b1262afc11c1d1a"
          }
        },
        "8d5c4d6384cc4d2ebe8b891e37c98267": {
          "model_module": "@jupyter-widgets/controls",
          "model_name": "HTMLModel",
          "state": {
            "_view_name": "HTMLView",
            "style": "IPY_MODEL_41dde51a869c4652884b42362a4182e6",
            "_dom_classes": [],
            "description": "",
            "_model_name": "HTMLModel",
            "placeholder": "​",
            "_view_module": "@jupyter-widgets/controls",
            "_model_module_version": "1.5.0",
            "value": " 1.72M/1.72M [00:01&lt;00:00, 1.19MB/s]",
            "_view_count": null,
            "_view_module_version": "1.5.0",
            "description_tooltip": null,
            "_model_module": "@jupyter-widgets/controls",
            "layout": "IPY_MODEL_88517f76f2044e1a958e1b705ada454e"
          }
        },
        "a9ad0aca48fb47178ed8f1231cc38772": {
          "model_module": "@jupyter-widgets/controls",
          "model_name": "ProgressStyleModel",
          "state": {
            "_view_name": "StyleView",
            "_model_name": "ProgressStyleModel",
            "description_width": "initial",
            "_view_module": "@jupyter-widgets/base",
            "_model_module_version": "1.5.0",
            "_view_count": null,
            "_view_module_version": "1.2.0",
            "bar_color": null,
            "_model_module": "@jupyter-widgets/controls"
          }
        },
        "671a91031b0044b08b1262afc11c1d1a": {
          "model_module": "@jupyter-widgets/base",
          "model_name": "LayoutModel",
          "state": {
            "_view_name": "LayoutView",
            "grid_template_rows": null,
            "right": null,
            "justify_content": null,
            "_view_module": "@jupyter-widgets/base",
            "overflow": null,
            "_model_module_version": "1.2.0",
            "_view_count": null,
            "flex_flow": null,
            "width": null,
            "min_width": null,
            "border": null,
            "align_items": null,
            "bottom": null,
            "_model_module": "@jupyter-widgets/base",
            "top": null,
            "grid_column": null,
            "overflow_y": null,
            "overflow_x": null,
            "grid_auto_flow": null,
            "grid_area": null,
            "grid_template_columns": null,
            "flex": null,
            "_model_name": "LayoutModel",
            "justify_items": null,
            "grid_row": null,
            "max_height": null,
            "align_content": null,
            "visibility": null,
            "align_self": null,
            "height": null,
            "min_height": null,
            "padding": null,
            "grid_auto_rows": null,
            "grid_gap": null,
            "max_width": null,
            "order": null,
            "_view_module_version": "1.2.0",
            "grid_template_areas": null,
            "object_position": null,
            "object_fit": null,
            "grid_auto_columns": null,
            "margin": null,
            "display": null,
            "left": null
          }
        },
        "41dde51a869c4652884b42362a4182e6": {
          "model_module": "@jupyter-widgets/controls",
          "model_name": "DescriptionStyleModel",
          "state": {
            "_view_name": "StyleView",
            "_model_name": "DescriptionStyleModel",
            "description_width": "",
            "_view_module": "@jupyter-widgets/base",
            "_model_module_version": "1.5.0",
            "_view_count": null,
            "_view_module_version": "1.2.0",
            "_model_module": "@jupyter-widgets/controls"
          }
        },
        "88517f76f2044e1a958e1b705ada454e": {
          "model_module": "@jupyter-widgets/base",
          "model_name": "LayoutModel",
          "state": {
            "_view_name": "LayoutView",
            "grid_template_rows": null,
            "right": null,
            "justify_content": null,
            "_view_module": "@jupyter-widgets/base",
            "overflow": null,
            "_model_module_version": "1.2.0",
            "_view_count": null,
            "flex_flow": null,
            "width": null,
            "min_width": null,
            "border": null,
            "align_items": null,
            "bottom": null,
            "_model_module": "@jupyter-widgets/base",
            "top": null,
            "grid_column": null,
            "overflow_y": null,
            "overflow_x": null,
            "grid_auto_flow": null,
            "grid_area": null,
            "grid_template_columns": null,
            "flex": null,
            "_model_name": "LayoutModel",
            "justify_items": null,
            "grid_row": null,
            "max_height": null,
            "align_content": null,
            "visibility": null,
            "align_self": null,
            "height": null,
            "min_height": null,
            "padding": null,
            "grid_auto_rows": null,
            "grid_gap": null,
            "max_width": null,
            "order": null,
            "_view_module_version": "1.2.0",
            "grid_template_areas": null,
            "object_position": null,
            "object_fit": null,
            "grid_auto_columns": null,
            "margin": null,
            "display": null,
            "left": null
          }
        },
        "fb592723837749b0898b0650e96ac21c": {
          "model_module": "@jupyter-widgets/controls",
          "model_name": "HBoxModel",
          "state": {
            "_view_name": "HBoxView",
            "_dom_classes": [],
            "_model_name": "HBoxModel",
            "_view_module": "@jupyter-widgets/controls",
            "_model_module_version": "1.5.0",
            "_view_count": null,
            "_view_module_version": "1.5.0",
            "box_style": "",
            "layout": "IPY_MODEL_ae8747c06d264a80af5ffd4173141d53",
            "_model_module": "@jupyter-widgets/controls",
            "children": [
              "IPY_MODEL_e602cc171f63492893dd923437c9393f",
              "IPY_MODEL_a616bee1d4cb4602a7cef3d41eeafcd5"
            ]
          }
        },
        "ae8747c06d264a80af5ffd4173141d53": {
          "model_module": "@jupyter-widgets/base",
          "model_name": "LayoutModel",
          "state": {
            "_view_name": "LayoutView",
            "grid_template_rows": null,
            "right": null,
            "justify_content": null,
            "_view_module": "@jupyter-widgets/base",
            "overflow": null,
            "_model_module_version": "1.2.0",
            "_view_count": null,
            "flex_flow": null,
            "width": null,
            "min_width": null,
            "border": null,
            "align_items": null,
            "bottom": null,
            "_model_module": "@jupyter-widgets/base",
            "top": null,
            "grid_column": null,
            "overflow_y": null,
            "overflow_x": null,
            "grid_auto_flow": null,
            "grid_area": null,
            "grid_template_columns": null,
            "flex": null,
            "_model_name": "LayoutModel",
            "justify_items": null,
            "grid_row": null,
            "max_height": null,
            "align_content": null,
            "visibility": null,
            "align_self": null,
            "height": null,
            "min_height": null,
            "padding": null,
            "grid_auto_rows": null,
            "grid_gap": null,
            "max_width": null,
            "order": null,
            "_view_module_version": "1.2.0",
            "grid_template_areas": null,
            "object_position": null,
            "object_fit": null,
            "grid_auto_columns": null,
            "margin": null,
            "display": null,
            "left": null
          }
        },
        "e602cc171f63492893dd923437c9393f": {
          "model_module": "@jupyter-widgets/controls",
          "model_name": "FloatProgressModel",
          "state": {
            "_view_name": "ProgressView",
            "style": "IPY_MODEL_5d5bec3474e9406dadf80512245f3eff",
            "_dom_classes": [],
            "description": "Downloading: 100%",
            "_model_name": "FloatProgressModel",
            "bar_style": "success",
            "max": 28,
            "_view_module": "@jupyter-widgets/controls",
            "_model_module_version": "1.5.0",
            "value": 28,
            "_view_count": null,
            "_view_module_version": "1.5.0",
            "orientation": "horizontal",
            "min": 0,
            "description_tooltip": null,
            "_model_module": "@jupyter-widgets/controls",
            "layout": "IPY_MODEL_68a55c5da2e0448faa08d83ece11d220"
          }
        },
        "a616bee1d4cb4602a7cef3d41eeafcd5": {
          "model_module": "@jupyter-widgets/controls",
          "model_name": "HTMLModel",
          "state": {
            "_view_name": "HTMLView",
            "style": "IPY_MODEL_6fcf58484cea4bf4bbc06476d148d44f",
            "_dom_classes": [],
            "description": "",
            "_model_name": "HTMLModel",
            "placeholder": "​",
            "_view_module": "@jupyter-widgets/controls",
            "_model_module_version": "1.5.0",
            "value": " 28.0/28.0 [00:50&lt;00:00, 1.79s/B]",
            "_view_count": null,
            "_view_module_version": "1.5.0",
            "description_tooltip": null,
            "_model_module": "@jupyter-widgets/controls",
            "layout": "IPY_MODEL_990edca4c63d44ed9253c15ed8f68abb"
          }
        },
        "5d5bec3474e9406dadf80512245f3eff": {
          "model_module": "@jupyter-widgets/controls",
          "model_name": "ProgressStyleModel",
          "state": {
            "_view_name": "StyleView",
            "_model_name": "ProgressStyleModel",
            "description_width": "initial",
            "_view_module": "@jupyter-widgets/base",
            "_model_module_version": "1.5.0",
            "_view_count": null,
            "_view_module_version": "1.2.0",
            "bar_color": null,
            "_model_module": "@jupyter-widgets/controls"
          }
        },
        "68a55c5da2e0448faa08d83ece11d220": {
          "model_module": "@jupyter-widgets/base",
          "model_name": "LayoutModel",
          "state": {
            "_view_name": "LayoutView",
            "grid_template_rows": null,
            "right": null,
            "justify_content": null,
            "_view_module": "@jupyter-widgets/base",
            "overflow": null,
            "_model_module_version": "1.2.0",
            "_view_count": null,
            "flex_flow": null,
            "width": null,
            "min_width": null,
            "border": null,
            "align_items": null,
            "bottom": null,
            "_model_module": "@jupyter-widgets/base",
            "top": null,
            "grid_column": null,
            "overflow_y": null,
            "overflow_x": null,
            "grid_auto_flow": null,
            "grid_area": null,
            "grid_template_columns": null,
            "flex": null,
            "_model_name": "LayoutModel",
            "justify_items": null,
            "grid_row": null,
            "max_height": null,
            "align_content": null,
            "visibility": null,
            "align_self": null,
            "height": null,
            "min_height": null,
            "padding": null,
            "grid_auto_rows": null,
            "grid_gap": null,
            "max_width": null,
            "order": null,
            "_view_module_version": "1.2.0",
            "grid_template_areas": null,
            "object_position": null,
            "object_fit": null,
            "grid_auto_columns": null,
            "margin": null,
            "display": null,
            "left": null
          }
        },
        "6fcf58484cea4bf4bbc06476d148d44f": {
          "model_module": "@jupyter-widgets/controls",
          "model_name": "DescriptionStyleModel",
          "state": {
            "_view_name": "StyleView",
            "_model_name": "DescriptionStyleModel",
            "description_width": "",
            "_view_module": "@jupyter-widgets/base",
            "_model_module_version": "1.5.0",
            "_view_count": null,
            "_view_module_version": "1.2.0",
            "_model_module": "@jupyter-widgets/controls"
          }
        },
        "990edca4c63d44ed9253c15ed8f68abb": {
          "model_module": "@jupyter-widgets/base",
          "model_name": "LayoutModel",
          "state": {
            "_view_name": "LayoutView",
            "grid_template_rows": null,
            "right": null,
            "justify_content": null,
            "_view_module": "@jupyter-widgets/base",
            "overflow": null,
            "_model_module_version": "1.2.0",
            "_view_count": null,
            "flex_flow": null,
            "width": null,
            "min_width": null,
            "border": null,
            "align_items": null,
            "bottom": null,
            "_model_module": "@jupyter-widgets/base",
            "top": null,
            "grid_column": null,
            "overflow_y": null,
            "overflow_x": null,
            "grid_auto_flow": null,
            "grid_area": null,
            "grid_template_columns": null,
            "flex": null,
            "_model_name": "LayoutModel",
            "justify_items": null,
            "grid_row": null,
            "max_height": null,
            "align_content": null,
            "visibility": null,
            "align_self": null,
            "height": null,
            "min_height": null,
            "padding": null,
            "grid_auto_rows": null,
            "grid_gap": null,
            "max_width": null,
            "order": null,
            "_view_module_version": "1.2.0",
            "grid_template_areas": null,
            "object_position": null,
            "object_fit": null,
            "grid_auto_columns": null,
            "margin": null,
            "display": null,
            "left": null
          }
        }
      }
    }
  },
  "cells": [
    {
      "cell_type": "markdown",
      "metadata": {
        "id": "view-in-github",
        "colab_type": "text"
      },
      "source": [
        "<a href=\"https://colab.research.google.com/github/finardi/Ranking/blob/main/1_Cobert_Tokenize.ipynb\" target=\"_parent\"><img src=\"https://colab.research.google.com/assets/colab-badge.svg\" alt=\"Open In Colab\"/></a>"
      ]
    },
    {
      "cell_type": "code",
      "metadata": {
        "id": "C_VjoF5APkeg"
      },
      "source": [
        "%%capture\n",
        "!pip install -q transformers"
      ],
      "execution_count": null,
      "outputs": []
    },
    {
      "cell_type": "code",
      "metadata": {
        "colab": {
          "base_uri": "https://localhost:8080/",
          "height": 510
        },
        "id": "ljyXVTqJkW3J",
        "outputId": "126ae79b-7e59-4114-bdb7-ef4b1032061b"
      },
      "source": [
        "import gc\n",
        "import os\n",
        "import torch\n",
        "import pickle\n",
        "import numpy as np\n",
        "import pandas as pd\n",
        "from functools import partial\n",
        "from transformers import BertPreTrainedModel, BertModel, BertTokenizerFast\n",
        "\n",
        "\n",
        "# better pandas viz\n",
        "pd.set_option('display.max_columns', 100)  \n",
        "pd.set_option('display.expand_frame_repr', 100)\n",
        "pd.set_option('max_colwidth', 700)\n",
        "pd.set_option('display.max_rows', 5000)\n",
        "  \n",
        "# save/load pickles\n",
        "def pickle_file(path, data=None):\n",
        "    if data is None:\n",
        "        with open(path, 'rb') as f:\n",
        "            return pickle.load(f)\n",
        "    if data is not None:\n",
        "        with open(path, 'wb') as handle:\n",
        "            pickle.dump(data, handle, protocol=pickle.HIGHEST_PROTOCOL)\n",
        " \n",
        "# path base\n",
        "path_base =  '/content/drive/MyDrive/ColBERT/ColBERT - FAQ Receita Federal/'\n",
        "\n",
        "# load dataframes\n",
        "df = pd.read_parquet(path_base+'data/df_FAQ_TRAIN.parquet.gzip')\n",
        "\n",
        "print(f'unique docs:      {df[\"doc\"].nunique()}')\n",
        "print(f'unique questions: {df[\"query\"].nunique()}')\n",
        "df_triplet = pd.read_parquet(path_base+'data/df_FAQ_triplet_IDS_TRAIN.parquet.gzip')\n",
        "\n",
        "# load data dicts\n",
        "query_to_qid = pickle_file(path_base+'data/query_to_qid_TRAIN' )\n",
        "qid_to_query = pickle_file(path_base+'data/qid_to_query_TRAIN')\n",
        "doc_to_pid   = pickle_file(path_base+'data/doc_to_pid_TRAIN' )\n",
        "pid_to_doc   = pickle_file(path_base+'data/pid_to_doc_TRAIN')\n",
        "\n",
        "df.head()"
      ],
      "execution_count": null,
      "outputs": [
        {
          "output_type": "stream",
          "text": [
            "unique docs:      612\n",
            "unique questions: 612\n"
          ],
          "name": "stdout"
        },
        {
          "output_type": "execute_result",
          "data": {
            "text/html": [
              "<div>\n",
              "<style scoped>\n",
              "    .dataframe tbody tr th:only-of-type {\n",
              "        vertical-align: middle;\n",
              "    }\n",
              "\n",
              "    .dataframe tbody tr th {\n",
              "        vertical-align: top;\n",
              "    }\n",
              "\n",
              "    .dataframe thead th {\n",
              "        text-align: right;\n",
              "    }\n",
              "</style>\n",
              "<table border=\"1\" class=\"dataframe\">\n",
              "  <thead>\n",
              "    <tr style=\"text-align: right;\">\n",
              "      <th></th>\n",
              "      <th>qid</th>\n",
              "      <th>query</th>\n",
              "      <th>pid</th>\n",
              "      <th>doc</th>\n",
              "    </tr>\n",
              "  </thead>\n",
              "  <tbody>\n",
              "    <tr>\n",
              "      <th>0</th>\n",
              "      <td>0</td>\n",
              "      <td>pessoa física desobrigada pode apresentar a declaração de ajuste anual  ?</td>\n",
              "      <td>0</td>\n",
              "      <td>sim.  pessoa física, ainda que desobrigada, pode apresentar a declaração de ajuste anual  , sendo  vedado a um mesmo contribuinte constar simultaneamente em mais de uma declaração de ajuste anual, seja  como titular ou dependente, exceto nos casos de alteração na relação de dependência no ano-calendário de  2019.</td>\n",
              "    </tr>\n",
              "    <tr>\n",
              "      <th>1</th>\n",
              "      <td>1</td>\n",
              "      <td>qual é a forma de apuração do resultado da atividade rural da pessoa física?</td>\n",
              "      <td>1</td>\n",
              "      <td>resultado da exploração da atividade rural exercida pela pessoa física é apurado mediante a escrituração  do livro-caixa, abrangendo as receitas, as despesas, os investimentos e demais valores que integram a  atividade.     escrituração e a apuração devem ser feitas separadamente, por contribuinte e por país, em relação a todas  as unidades rurais exploradas individualmente, em conjunto ou em comunhão em decorrência do regime de  casamento.   quando a receita bruta total auferida no ano-calendário não exceder a $ 56.000,00, é permitida a apuração  mediante prova documental, dispensada a escrituração do livro-caixa, encontrando-se o resultado pela  diferença entre o total das receitas e o...</td>\n",
              "    </tr>\n",
              "    <tr>\n",
              "      <th>2</th>\n",
              "      <td>2</td>\n",
              "      <td>contribuinte que constou como responsável perante a secretaria especial da receita federal  do brasil   por cadastro nacional da pessoa jurídica   de associações (bairros, creches,  clubes etc.) no ano-calendário de 2019, deve apresentar a declaração de ajuste anual do exercício  de 2020?</td>\n",
              "      <td>2</td>\n",
              "      <td>esse contribuinte está obrigado a declarar caso se enquadre nas hipóteses previstas na pergunta 001. não  é o fato de ter constado como responsável perante a secretaria especial da receita federal do brasil    por cadastro nacional da pessoa jurídica   de associações (bairros, creches, clubes etc.), por si só,  que obriga a apresentação de declaração de ajuste anual.</td>\n",
              "    </tr>\n",
              "    <tr>\n",
              "      <th>3</th>\n",
              "      <td>3</td>\n",
              "      <td>qual é o tratamento tributário dos rendimentos pagos ao sócio de serviço a título de pro-  labore?</td>\n",
              "      <td>3</td>\n",
              "      <td>incide imposto sobre a renda, na fonte e na declaração de ajuste anual, sobre os valores pagos ao sócio de  serviço (consulte a solução de consulta interna cosit nº 12, de 15 de maio de 2013, disponível no sítio da   na internet: http://receita.economia.gov.br =&gt; legislação =&gt; soluções de consultas e de divergências  =&gt; sistema padrão de pesquisas da legislação da receita federal), a título de pro labore (rendimentos de  trabalho). no entanto, não incide imposto sobre a renda sobre valores pagos a título de distribuição de lucros  pelas pessoas jurídicas.</td>\n",
              "    </tr>\n",
              "    <tr>\n",
              "      <th>4</th>\n",
              "      <td>4</td>\n",
              "      <td>animais, produtos ou bens rurais entregues para integralizar quotas subscritas em sociedade  (empresa rural) configuram receita da atividade rural?</td>\n",
              "      <td>4</td>\n",
              "      <td>sim, a entrega de animais, produtos ou bens rurais para integralização de capital em sociedade por quotas  implica obtenção de receita e, em consequência, deve compor o resultado da atividade rural.  valor pelo qual  os animais, produtos ou bens rurais forem transferidos deve ser incluído como receita para apuração do  rendimento tributável.</td>\n",
              "    </tr>\n",
              "  </tbody>\n",
              "</table>\n",
              "</div>"
            ],
            "text/plain": [
              "   qid  \\\n",
              "0    0   \n",
              "1    1   \n",
              "2    2   \n",
              "3    3   \n",
              "4    4   \n",
              "\n",
              "                                                                                                                                                                                                                                                                                               query  \\\n",
              "0                                                                                                                                                                                                                          pessoa física desobrigada pode apresentar a declaração de ajuste anual  ?   \n",
              "1                                                                                                                                                                                                                       qual é a forma de apuração do resultado da atividade rural da pessoa física?   \n",
              "2  contribuinte que constou como responsável perante a secretaria especial da receita federal  do brasil   por cadastro nacional da pessoa jurídica   de associações (bairros, creches,  clubes etc.) no ano-calendário de 2019, deve apresentar a declaração de ajuste anual do exercício  de 2020?   \n",
              "3                                                                                                                                                                                                 qual é o tratamento tributário dos rendimentos pagos ao sócio de serviço a título de pro-  labore?   \n",
              "4                                                                                                                                                animais, produtos ou bens rurais entregues para integralizar quotas subscritas em sociedade  (empresa rural) configuram receita da atividade rural?   \n",
              "\n",
              "   pid  \\\n",
              "0    0   \n",
              "1    1   \n",
              "2    2   \n",
              "3    3   \n",
              "4    4   \n",
              "\n",
              "                                                                                                                                                                                                                                                                                                                                                                                                                                                                                                                                                                                                                                                                                                                           doc  \n",
              "0                                                                                                                                                                                                                                                                                                                                                                                                   sim.  pessoa física, ainda que desobrigada, pode apresentar a declaração de ajuste anual  , sendo  vedado a um mesmo contribuinte constar simultaneamente em mais de uma declaração de ajuste anual, seja  como titular ou dependente, exceto nos casos de alteração na relação de dependência no ano-calendário de  2019.  \n",
              "1  resultado da exploração da atividade rural exercida pela pessoa física é apurado mediante a escrituração  do livro-caixa, abrangendo as receitas, as despesas, os investimentos e demais valores que integram a  atividade.     escrituração e a apuração devem ser feitas separadamente, por contribuinte e por país, em relação a todas  as unidades rurais exploradas individualmente, em conjunto ou em comunhão em decorrência do regime de  casamento.   quando a receita bruta total auferida no ano-calendário não exceder a $ 56.000,00, é permitida a apuração  mediante prova documental, dispensada a escrituração do livro-caixa, encontrando-se o resultado pela  diferença entre o total das receitas e o...  \n",
              "2                                                                                                                                                                                                                                                                                                                                            esse contribuinte está obrigado a declarar caso se enquadre nas hipóteses previstas na pergunta 001. não  é o fato de ter constado como responsável perante a secretaria especial da receita federal do brasil    por cadastro nacional da pessoa jurídica   de associações (bairros, creches, clubes etc.), por si só,  que obriga a apresentação de declaração de ajuste anual.  \n",
              "3                                                                                                                                            incide imposto sobre a renda, na fonte e na declaração de ajuste anual, sobre os valores pagos ao sócio de  serviço (consulte a solução de consulta interna cosit nº 12, de 15 de maio de 2013, disponível no sítio da   na internet: http://receita.economia.gov.br => legislação => soluções de consultas e de divergências  => sistema padrão de pesquisas da legislação da receita federal), a título de pro labore (rendimentos de  trabalho). no entanto, não incide imposto sobre a renda sobre valores pagos a título de distribuição de lucros  pelas pessoas jurídicas.  \n",
              "4                                                                                                                                                                                                                                                                                                                                                                      sim, a entrega de animais, produtos ou bens rurais para integralização de capital em sociedade por quotas  implica obtenção de receita e, em consequência, deve compor o resultado da atividade rural.  valor pelo qual  os animais, produtos ou bens rurais forem transferidos deve ser incluído como receita para apuração do  rendimento tributável.  "
            ]
          },
          "metadata": {
            "tags": []
          },
          "execution_count": 2
        }
      ]
    },
    {
      "cell_type": "markdown",
      "metadata": {
        "id": "fRscnioMUfpC"
      },
      "source": [
        "# Explore 1 row from df_triplet"
      ]
    },
    {
      "cell_type": "code",
      "metadata": {
        "colab": {
          "base_uri": "https://localhost:8080/",
          "height": 204
        },
        "id": "bjH8voVykv7c",
        "outputId": "56ea9e31-1a3e-46ad-d9f1-fe1edca8e43f"
      },
      "source": [
        "# triplet format\n",
        "df_triplet.head()"
      ],
      "execution_count": null,
      "outputs": [
        {
          "output_type": "execute_result",
          "data": {
            "text/html": [
              "<div>\n",
              "<style scoped>\n",
              "    .dataframe tbody tr th:only-of-type {\n",
              "        vertical-align: middle;\n",
              "    }\n",
              "\n",
              "    .dataframe tbody tr th {\n",
              "        vertical-align: top;\n",
              "    }\n",
              "\n",
              "    .dataframe thead th {\n",
              "        text-align: right;\n",
              "    }\n",
              "</style>\n",
              "<table border=\"1\" class=\"dataframe\">\n",
              "  <thead>\n",
              "    <tr style=\"text-align: right;\">\n",
              "      <th></th>\n",
              "      <th>qid</th>\n",
              "      <th>pos_pid</th>\n",
              "      <th>neg_pid</th>\n",
              "    </tr>\n",
              "  </thead>\n",
              "  <tbody>\n",
              "    <tr>\n",
              "      <th>0</th>\n",
              "      <td>0</td>\n",
              "      <td>0</td>\n",
              "      <td>582</td>\n",
              "    </tr>\n",
              "    <tr>\n",
              "      <th>1</th>\n",
              "      <td>1</td>\n",
              "      <td>1</td>\n",
              "      <td>509</td>\n",
              "    </tr>\n",
              "    <tr>\n",
              "      <th>2</th>\n",
              "      <td>2</td>\n",
              "      <td>2</td>\n",
              "      <td>384</td>\n",
              "    </tr>\n",
              "    <tr>\n",
              "      <th>3</th>\n",
              "      <td>3</td>\n",
              "      <td>3</td>\n",
              "      <td>84</td>\n",
              "    </tr>\n",
              "    <tr>\n",
              "      <th>4</th>\n",
              "      <td>4</td>\n",
              "      <td>4</td>\n",
              "      <td>311</td>\n",
              "    </tr>\n",
              "  </tbody>\n",
              "</table>\n",
              "</div>"
            ],
            "text/plain": [
              "   qid  pos_pid  neg_pid\n",
              "0    0        0      582\n",
              "1    1        1      509\n",
              "2    2        2      384\n",
              "3    3        3       84\n",
              "4    4        4      311"
            ]
          },
          "metadata": {
            "tags": []
          },
          "execution_count": 3
        }
      ]
    },
    {
      "cell_type": "code",
      "metadata": {
        "colab": {
          "base_uri": "https://localhost:8080/",
          "height": 52
        },
        "id": "LYCMeqrIntob",
        "outputId": "63e01360-306c-44a1-efb2-d4c54cfd8bdc"
      },
      "source": [
        "# positive doc to qid 0\n",
        "pid_to_doc[0]"
      ],
      "execution_count": null,
      "outputs": [
        {
          "output_type": "execute_result",
          "data": {
            "application/vnd.google.colaboratory.intrinsic+json": {
              "type": "string"
            },
            "text/plain": [
              "'sim.  pessoa física, ainda que desobrigada, pode apresentar a declaração de ajuste anual  , sendo  vedado a um mesmo contribuinte constar simultaneamente em mais de uma declaração de ajuste anual, seja  como titular ou dependente, exceto nos casos de alteração na relação de dependência no ano-calendário de  2019.'"
            ]
          },
          "metadata": {
            "tags": []
          },
          "execution_count": 4
        }
      ]
    },
    {
      "cell_type": "code",
      "metadata": {
        "colab": {
          "base_uri": "https://localhost:8080/",
          "height": 120
        },
        "id": "aJCGaECLo0ip",
        "outputId": "8e5927e7-b6ce-49aa-ebab-ce4e52e9ba1f"
      },
      "source": [
        "# negaitive doc to qid 0\n",
        "pid_to_doc[248]"
      ],
      "execution_count": null,
      "outputs": [
        {
          "output_type": "execute_result",
          "data": {
            "application/vnd.google.colaboratory.intrinsic+json": {
              "type": "string"
            },
            "text/plain": [
              "'contribuinte que receber rendimentos do trabalho não assalariado, inclusive os titulares de serviços notariais  e de registro e os leiloeiros podem deduzir, da receita decorrente do exercício da respectiva atividade, as  seguintes despesas escrituradas em livro-caixa:   1 - a remuneração paga a terceiros, desde que com vínculo empregatício, e os respectivos encargos  trabalhistas e previdenciários;   2 - os emolumentos pagos a terceiros, assim considerados os valores referentes à retribuição pela execução,  pelos serventuários públicos, de atos cartorários, judiciais e extrajudiciais;   3 - as despesas de custeio pagas, necessárias à percepção da receita e a manutenção da fonte produtora;      170   4 - as importâncias pagas, devidas aos empregados em decorrência das relações de trabalho, ainda que não  integrem a remuneração destes, caso configurem despesas necessárias à percepção da receita e à  manutenção da fonte produtora, observando-se que na hipótese de convenções e acordos coletivos de  trabalho, todas as prestações neles previstas e devidas ao empregado constituem obrigações do empregador  e, portanto, despesas necessárias à percepção da receita e à manutenção da fonte produtora.    excesso de deduções apurado no mês pode ser compensado nos meses seguintes, até dezembro, não  podendo ser transposto para o ano seguinte.   atenção:    não são dedutíveis:    - as quotas de depreciação de instalações, máquinas e equipamentos, bem como as despesas de  arrendamento (leasing);   - as despesas de locomoção e transporte, salvo no caso de representante comercial autônomo,  quando correrem por conta deste;   - as despesas relacionadas à prestação de serviços de transporte e aos rendimentos auferidos  pelos garimpeiros.   as despesas de custeio escrituradas em livro-caixa podem ser deduzidas independentemente de  as receitas serem oriundas de serviços prestados como autônomo a pessoa física ou jurídica.'"
            ]
          },
          "metadata": {
            "tags": []
          },
          "execution_count": 5
        }
      ]
    },
    {
      "cell_type": "markdown",
      "metadata": {
        "id": "IvXDemtAqjOa"
      },
      "source": [
        "# CONSTANTS"
      ]
    },
    {
      "cell_type": "code",
      "metadata": {
        "id": "0BSHEu_RqgWR"
      },
      "source": [
        "bsize        = 3 # N\n",
        "query_maxlen = 36\n",
        "doc_maxlen   = 64"
      ],
      "execution_count": null,
      "outputs": []
    },
    {
      "cell_type": "markdown",
      "metadata": {
        "id": "cFH8-7G_123Q"
      },
      "source": [
        "# Query Tokenization"
      ]
    },
    {
      "cell_type": "code",
      "metadata": {
        "colab": {
          "base_uri": "https://localhost:8080/"
        },
        "id": "cjVpZxKNuALo",
        "outputId": "a76f1571-4561-46b9-90c7-83e3d5977c23"
      },
      "source": [
        "# =============================================\n",
        "# ✨ step 0: build one batch with quries texts\n",
        "# =============================================\n",
        "query_bsize = df_triplet.qid.iloc[:bsize].to_list()\n",
        "print(query_bsize)\n",
        "query_bsize = [\n",
        "            qid_to_query[query_bsize[0]], \n",
        "            qid_to_query[query_bsize[1]],\n",
        "            qid_to_query[query_bsize[2]], \n",
        "              ]\n",
        "query_bsize              "
      ],
      "execution_count": null,
      "outputs": [
        {
          "output_type": "stream",
          "text": [
            "[0, 1, 2]\n"
          ],
          "name": "stdout"
        },
        {
          "output_type": "execute_result",
          "data": {
            "text/plain": [
              "['pessoa física desobrigada pode apresentar a declaração de ajuste anual  ?',\n",
              " 'qual é a forma de apuração do resultado da atividade rural da pessoa física?',\n",
              " 'contribuinte que constou como responsável perante a secretaria especial da receita federal  do brasil   por cadastro nacional da pessoa jurídica   de associações (bairros, creches,  clubes etc.) no ano-calendário de 2019, deve apresentar a declaração de ajuste anual do exercício  de 2020?']"
            ]
          },
          "metadata": {
            "tags": []
          },
          "execution_count": 7
        }
      ]
    },
    {
      "cell_type": "code",
      "metadata": {
        "id": "n9RcHTiFrbGN",
        "colab": {
          "base_uri": "https://localhost:8080/",
          "height": 164,
          "referenced_widgets": [
            "4979f6390a8945afadb625e2f053b0b0",
            "a214829d472644e495032c580596bc47",
            "c8e796c859ad4b8283ff94581e6de408",
            "6e78b11b14074a57a4dd46090b135ece",
            "edac067062204803beced391a2787d44",
            "bca1723cdf814dfbaf6a6d1806b64459",
            "28fb644b09c8466092044096ff4d1fab",
            "3d13f55e1da243bb92794f3bf04471fb",
            "5b8501c2c94144fd94727404b8d02b8d",
            "0df9d89b6f4647b6a5fd7073763dfe29",
            "799d0a1df5a4430a9ad96da77664f3a3",
            "8d5c4d6384cc4d2ebe8b891e37c98267",
            "a9ad0aca48fb47178ed8f1231cc38772",
            "671a91031b0044b08b1262afc11c1d1a",
            "41dde51a869c4652884b42362a4182e6",
            "88517f76f2044e1a958e1b705ada454e",
            "fb592723837749b0898b0650e96ac21c",
            "ae8747c06d264a80af5ffd4173141d53",
            "e602cc171f63492893dd923437c9393f",
            "a616bee1d4cb4602a7cef3d41eeafcd5",
            "5d5bec3474e9406dadf80512245f3eff",
            "68a55c5da2e0448faa08d83ece11d220",
            "6fcf58484cea4bf4bbc06476d148d44f",
            "990edca4c63d44ed9253c15ed8f68abb"
          ]
        },
        "outputId": "c5fedc21-2593-44b0-924b-79caa9cd6376"
      },
      "source": [
        "# ===============================\n",
        "# ✨ step 1: init BERT tokenizer\n",
        "# ===============================\n",
        "tok = BertTokenizerFast.from_pretrained('bert-base-multilingual-uncased')"
      ],
      "execution_count": null,
      "outputs": [
        {
          "output_type": "display_data",
          "data": {
            "application/vnd.jupyter.widget-view+json": {
              "model_id": "4979f6390a8945afadb625e2f053b0b0",
              "version_minor": 0,
              "version_major": 2
            },
            "text/plain": [
              "HBox(children=(FloatProgress(value=0.0, description='Downloading', max=871891.0, style=ProgressStyle(descripti…"
            ]
          },
          "metadata": {
            "tags": []
          }
        },
        {
          "output_type": "stream",
          "text": [
            "\n"
          ],
          "name": "stdout"
        },
        {
          "output_type": "display_data",
          "data": {
            "application/vnd.jupyter.widget-view+json": {
              "model_id": "5b8501c2c94144fd94727404b8d02b8d",
              "version_minor": 0,
              "version_major": 2
            },
            "text/plain": [
              "HBox(children=(FloatProgress(value=0.0, description='Downloading', max=1715180.0, style=ProgressStyle(descript…"
            ]
          },
          "metadata": {
            "tags": []
          }
        },
        {
          "output_type": "stream",
          "text": [
            "\n"
          ],
          "name": "stdout"
        },
        {
          "output_type": "display_data",
          "data": {
            "application/vnd.jupyter.widget-view+json": {
              "model_id": "fb592723837749b0898b0650e96ac21c",
              "version_minor": 0,
              "version_major": 2
            },
            "text/plain": [
              "HBox(children=(FloatProgress(value=0.0, description='Downloading', max=28.0, style=ProgressStyle(description_w…"
            ]
          },
          "metadata": {
            "tags": []
          }
        },
        {
          "output_type": "stream",
          "text": [
            "\n"
          ],
          "name": "stdout"
        }
      ]
    },
    {
      "cell_type": "code",
      "metadata": {
        "colab": {
          "base_uri": "https://localhost:8080/"
        },
        "id": "oZa3TeQdsR0s",
        "outputId": "0e0a8850-ada2-479a-ea1d-89b5864ccdbf"
      },
      "source": [
        "# ===========================\n",
        "# ✨ step 2: build [Q] token\n",
        "# ===========================\n",
        "Q_marker_token, Q_marker_token_id = '[Q]', tok.convert_tokens_to_ids('[unused0]')\n",
        "Q_marker_token, Q_marker_token_id"
      ],
      "execution_count": null,
      "outputs": [
        {
          "output_type": "execute_result",
          "data": {
            "text/plain": [
              "('[Q]', 100)"
            ]
          },
          "metadata": {
            "tags": []
          },
          "execution_count": 9
        }
      ]
    },
    {
      "cell_type": "code",
      "metadata": {
        "colab": {
          "base_uri": "https://localhost:8080/"
        },
        "id": "TpFHqRCKra96",
        "outputId": "ecad6aaa-0db3-440c-e113-0e5d64279cf5"
      },
      "source": [
        "# =================================================================\n",
        "# ✨ step 3: add a place holder for token [Q] in the query's batch\n",
        "# =================================================================\n",
        "q_batch_text = ['. ' + x for x in query_bsize]\n",
        "q_batch_text"
      ],
      "execution_count": null,
      "outputs": [
        {
          "output_type": "execute_result",
          "data": {
            "text/plain": [
              "['. pessoa física desobrigada pode apresentar a declaração de ajuste anual  ?',\n",
              " '. qual é a forma de apuração do resultado da atividade rural da pessoa física?',\n",
              " '. contribuinte que constou como responsável perante a secretaria especial da receita federal  do brasil   por cadastro nacional da pessoa jurídica   de associações (bairros, creches,  clubes etc.) no ano-calendário de 2019, deve apresentar a declaração de ajuste anual do exercício  de 2020?']"
            ]
          },
          "metadata": {
            "tags": []
          },
          "execution_count": 10
        }
      ]
    },
    {
      "cell_type": "code",
      "metadata": {
        "colab": {
          "base_uri": "https://localhost:8080/"
        },
        "id": "wsHfKqoRralu",
        "outputId": "8537531b-41c2-49f7-fd93-7d8bae2ee3f8"
      },
      "source": [
        "# =====================================\n",
        "# ✨ step 4: build the q_obj tokenizer\n",
        "# =====================================\n",
        "q_obj = tok(\n",
        "    q_batch_text, \n",
        "    padding='max_length', \n",
        "    truncation=True,\n",
        "    return_tensors='pt', \n",
        "    max_length=query_maxlen,\n",
        "    )\n",
        "\n",
        "# use only ids e mask keys in the q_obj dict\n",
        "q_ids, q_mask = q_obj['input_ids'], q_obj['attention_mask']\n",
        "q_ids, q_mask"
      ],
      "execution_count": null,
      "outputs": [
        {
          "output_type": "execute_result",
          "data": {
            "text/plain": [
              "(tensor([[  101,   119, 37344, 20291, 10143, 26218, 48855, 10250, 14396, 43787,\n",
              "          10131,   143, 58262, 11115, 10102, 13657, 34165, 26474,   136,   102,\n",
              "              0,     0,     0,     0,     0,     0,     0,     0,     0,     0,\n",
              "              0,     0,     0,     0,     0,     0],\n",
              "         [  101,   119, 13249,   147,   143, 11098, 10102, 15768, 11846, 11115,\n",
              "          10154, 20318, 10141, 64313, 14982, 10141, 37344, 20291,   136,   102,\n",
              "              0,     0,     0,     0,     0,     0,     0,     0,     0,     0,\n",
              "              0,     0,     0,     0,     0,     0],\n",
              "         [  101,   119, 52529, 76665, 11223, 10126, 10173, 15160, 10136, 10245,\n",
              "          48061, 55852, 10218,   143, 34513, 16975, 10141, 58593, 11255, 12501,\n",
              "          10154, 12369, 10190, 11822, 31559, 11275, 10141, 37344, 73370, 10102,\n",
              "          13967, 52078, 12965,   113, 36175,   102]]),\n",
              " tensor([[1, 1, 1, 1, 1, 1, 1, 1, 1, 1, 1, 1, 1, 1, 1, 1, 1, 1, 1, 1, 0, 0, 0, 0,\n",
              "          0, 0, 0, 0, 0, 0, 0, 0, 0, 0, 0, 0],\n",
              "         [1, 1, 1, 1, 1, 1, 1, 1, 1, 1, 1, 1, 1, 1, 1, 1, 1, 1, 1, 1, 0, 0, 0, 0,\n",
              "          0, 0, 0, 0, 0, 0, 0, 0, 0, 0, 0, 0],\n",
              "         [1, 1, 1, 1, 1, 1, 1, 1, 1, 1, 1, 1, 1, 1, 1, 1, 1, 1, 1, 1, 1, 1, 1, 1,\n",
              "          1, 1, 1, 1, 1, 1, 1, 1, 1, 1, 1, 1]]))"
            ]
          },
          "metadata": {
            "tags": []
          },
          "execution_count": 11
        }
      ]
    },
    {
      "cell_type": "code",
      "metadata": {
        "colab": {
          "base_uri": "https://localhost:8080/"
        },
        "id": "pdyfUBjxq2FZ",
        "outputId": "2d5e33da-2266-4fd1-817d-8670ccef6657"
      },
      "source": [
        "# =============================================================================\n",
        "# ✨ step 5: insert [Q] after [CLS] token and switch the token [PAD] by [MASK]\n",
        "# =============================================================================\n",
        "q_ids[:, 1] = Q_marker_token_id\n",
        "q_ids[q_ids == 0] = tok.mask_token_id\n",
        "\n",
        "q_ids, q_mask"
      ],
      "execution_count": null,
      "outputs": [
        {
          "output_type": "execute_result",
          "data": {
            "text/plain": [
              "(tensor([[  101,   100, 37344, 20291, 10143, 26218, 48855, 10250, 14396, 43787,\n",
              "          10131,   143, 58262, 11115, 10102, 13657, 34165, 26474,   136,   102,\n",
              "            103,   103,   103,   103,   103,   103,   103,   103,   103,   103,\n",
              "            103,   103,   103,   103,   103,   103],\n",
              "         [  101,   100, 13249,   147,   143, 11098, 10102, 15768, 11846, 11115,\n",
              "          10154, 20318, 10141, 64313, 14982, 10141, 37344, 20291,   136,   102,\n",
              "            103,   103,   103,   103,   103,   103,   103,   103,   103,   103,\n",
              "            103,   103,   103,   103,   103,   103],\n",
              "         [  101,   100, 52529, 76665, 11223, 10126, 10173, 15160, 10136, 10245,\n",
              "          48061, 55852, 10218,   143, 34513, 16975, 10141, 58593, 11255, 12501,\n",
              "          10154, 12369, 10190, 11822, 31559, 11275, 10141, 37344, 73370, 10102,\n",
              "          13967, 52078, 12965,   113, 36175,   102]]),\n",
              " tensor([[1, 1, 1, 1, 1, 1, 1, 1, 1, 1, 1, 1, 1, 1, 1, 1, 1, 1, 1, 1, 0, 0, 0, 0,\n",
              "          0, 0, 0, 0, 0, 0, 0, 0, 0, 0, 0, 0],\n",
              "         [1, 1, 1, 1, 1, 1, 1, 1, 1, 1, 1, 1, 1, 1, 1, 1, 1, 1, 1, 1, 0, 0, 0, 0,\n",
              "          0, 0, 0, 0, 0, 0, 0, 0, 0, 0, 0, 0],\n",
              "         [1, 1, 1, 1, 1, 1, 1, 1, 1, 1, 1, 1, 1, 1, 1, 1, 1, 1, 1, 1, 1, 1, 1, 1,\n",
              "          1, 1, 1, 1, 1, 1, 1, 1, 1, 1, 1, 1]]))"
            ]
          },
          "metadata": {
            "tags": []
          },
          "execution_count": 12
        }
      ]
    },
    {
      "cell_type": "code",
      "metadata": {
        "colab": {
          "base_uri": "https://localhost:8080/"
        },
        "id": "hTfnNNZkuVN2",
        "outputId": "c0694745-7a2d-4643-ffc3-a44ff3e54bd0"
      },
      "source": [
        "# =====================================================\n",
        "# ✨ step 6: build the query's batch: list(ids, mask)\n",
        "# =====================================================\n",
        "q_batches = []\n",
        "# range (0, N, N)\n",
        "for offset in range(0, q_ids.size(0), bsize):\n",
        "    q_batches.append((q_ids[offset:offset+bsize], q_mask[offset:offset+bsize]))\n",
        "q_batches    "
      ],
      "execution_count": null,
      "outputs": [
        {
          "output_type": "execute_result",
          "data": {
            "text/plain": [
              "[(tensor([[  101,   100, 37344, 20291, 10143, 26218, 48855, 10250, 14396, 43787,\n",
              "           10131,   143, 58262, 11115, 10102, 13657, 34165, 26474,   136,   102,\n",
              "             103,   103,   103,   103,   103,   103,   103,   103,   103,   103,\n",
              "             103,   103,   103,   103,   103,   103],\n",
              "          [  101,   100, 13249,   147,   143, 11098, 10102, 15768, 11846, 11115,\n",
              "           10154, 20318, 10141, 64313, 14982, 10141, 37344, 20291,   136,   102,\n",
              "             103,   103,   103,   103,   103,   103,   103,   103,   103,   103,\n",
              "             103,   103,   103,   103,   103,   103],\n",
              "          [  101,   100, 52529, 76665, 11223, 10126, 10173, 15160, 10136, 10245,\n",
              "           48061, 55852, 10218,   143, 34513, 16975, 10141, 58593, 11255, 12501,\n",
              "           10154, 12369, 10190, 11822, 31559, 11275, 10141, 37344, 73370, 10102,\n",
              "           13967, 52078, 12965,   113, 36175,   102]]),\n",
              "  tensor([[1, 1, 1, 1, 1, 1, 1, 1, 1, 1, 1, 1, 1, 1, 1, 1, 1, 1, 1, 1, 0, 0, 0, 0,\n",
              "           0, 0, 0, 0, 0, 0, 0, 0, 0, 0, 0, 0],\n",
              "          [1, 1, 1, 1, 1, 1, 1, 1, 1, 1, 1, 1, 1, 1, 1, 1, 1, 1, 1, 1, 0, 0, 0, 0,\n",
              "           0, 0, 0, 0, 0, 0, 0, 0, 0, 0, 0, 0],\n",
              "          [1, 1, 1, 1, 1, 1, 1, 1, 1, 1, 1, 1, 1, 1, 1, 1, 1, 1, 1, 1, 1, 1, 1, 1,\n",
              "           1, 1, 1, 1, 1, 1, 1, 1, 1, 1, 1, 1]]))]"
            ]
          },
          "metadata": {
            "tags": []
          },
          "execution_count": 13
        }
      ]
    },
    {
      "cell_type": "markdown",
      "metadata": {
        "id": "Cp-geZCduVh6"
      },
      "source": [
        "# Doc Tokenization"
      ]
    },
    {
      "cell_type": "code",
      "metadata": {
        "colab": {
          "base_uri": "https://localhost:8080/",
          "height": 142
        },
        "id": "qilzAFc5CYyW",
        "outputId": "86395371-d1e3-4722-f117-f3081982a58c"
      },
      "source": [
        "df_triplet.iloc[:bsize]"
      ],
      "execution_count": null,
      "outputs": [
        {
          "output_type": "execute_result",
          "data": {
            "text/html": [
              "<div>\n",
              "<style scoped>\n",
              "    .dataframe tbody tr th:only-of-type {\n",
              "        vertical-align: middle;\n",
              "    }\n",
              "\n",
              "    .dataframe tbody tr th {\n",
              "        vertical-align: top;\n",
              "    }\n",
              "\n",
              "    .dataframe thead th {\n",
              "        text-align: right;\n",
              "    }\n",
              "</style>\n",
              "<table border=\"1\" class=\"dataframe\">\n",
              "  <thead>\n",
              "    <tr style=\"text-align: right;\">\n",
              "      <th></th>\n",
              "      <th>qid</th>\n",
              "      <th>pos_pid</th>\n",
              "      <th>neg_pid</th>\n",
              "    </tr>\n",
              "  </thead>\n",
              "  <tbody>\n",
              "    <tr>\n",
              "      <th>0</th>\n",
              "      <td>0</td>\n",
              "      <td>0</td>\n",
              "      <td>582</td>\n",
              "    </tr>\n",
              "    <tr>\n",
              "      <th>1</th>\n",
              "      <td>1</td>\n",
              "      <td>1</td>\n",
              "      <td>509</td>\n",
              "    </tr>\n",
              "    <tr>\n",
              "      <th>2</th>\n",
              "      <td>2</td>\n",
              "      <td>2</td>\n",
              "      <td>384</td>\n",
              "    </tr>\n",
              "  </tbody>\n",
              "</table>\n",
              "</div>"
            ],
            "text/plain": [
              "   qid  pos_pid  neg_pid\n",
              "0    0        0      582\n",
              "1    1        1      509\n",
              "2    2        2      384"
            ]
          },
          "metadata": {
            "tags": []
          },
          "execution_count": 14
        }
      ]
    },
    {
      "cell_type": "code",
      "metadata": {
        "colab": {
          "base_uri": "https://localhost:8080/"
        },
        "id": "lMqJbxLeAyfw",
        "outputId": "02194f1e-0a95-4620-d1eb-120b4a873d87"
      },
      "source": [
        "# ===========================================================\n",
        "# ✨ step 0: build one batch with positive and negative docs \n",
        "# ===========================================================\n",
        "doc_bsize = df.doc.iloc[:bsize].to_list()\n",
        "\n",
        "doc_bsize_pos = df_triplet.pos_pid.iloc[:bsize].to_list()\n",
        "doc_bsize_neg = df_triplet.neg_pid.iloc[:bsize].to_list()\n",
        "print('pos_pids', doc_bsize_pos)\n",
        "print('neg_pids', doc_bsize_neg)\n",
        "pos_docs = [\n",
        "            pid_to_doc[doc_bsize_pos[0]], \n",
        "            pid_to_doc[doc_bsize_pos[1]],\n",
        "            pid_to_doc[doc_bsize_pos[2]], \n",
        "           ]\n",
        "\n",
        "neg_docs = [\n",
        "            pid_to_doc[doc_bsize_neg[0]], \n",
        "            pid_to_doc[doc_bsize_neg[1]],\n",
        "            pid_to_doc[doc_bsize_neg[2]], \n",
        "           ]\n",
        "\n",
        "doc_bsize = pos_docs + neg_docs\n",
        "\n",
        "pos_docs, neg_docs              "
      ],
      "execution_count": null,
      "outputs": [
        {
          "output_type": "stream",
          "text": [
            "pos_pids [0, 1, 2]\n",
            "neg_pids [582, 509, 384]\n"
          ],
          "name": "stdout"
        },
        {
          "output_type": "execute_result",
          "data": {
            "text/plain": [
              "(['sim.  pessoa física, ainda que desobrigada, pode apresentar a declaração de ajuste anual  , sendo  vedado a um mesmo contribuinte constar simultaneamente em mais de uma declaração de ajuste anual, seja  como titular ou dependente, exceto nos casos de alteração na relação de dependência no ano-calendário de  2019.',\n",
              "  'resultado da exploração da atividade rural exercida pela pessoa física é apurado mediante a escrituração  do livro-caixa, abrangendo as receitas, as despesas, os investimentos e demais valores que integram a  atividade.     escrituração e a apuração devem ser feitas separadamente, por contribuinte e por país, em relação a todas  as unidades rurais exploradas individualmente, em conjunto ou em comunhão em decorrência do regime de  casamento.   quando a receita bruta total auferida no ano-calendário não exceder a $ 56.000,00, é permitida a apuração  mediante prova documental, dispensada a escrituração do livro-caixa, encontrando-se o resultado pela  diferença entre o total das receitas e o das despesas/investimentos.   também é permitido à pessoa física apurar o resultado pela forma contábil. nesse caso, deve efetuar os  lançamentos em livros próprios de contabilidade, necessários para cada tipo de atividade (diário, caixa, razão  etc.), de acordo com as normas contábeis, comerciais e fiscais pertinentes a cada um dos livros utilizados.   ressalte-se que, no caso de exploração de uma unidade rural por mais de uma pessoa física, cada produtor  rural deve escriturar as parcelas da receita, da despesa de custeio, dos investimentos e dos demais valores  que integram a atividade rural que lhe caibam.    secretaria especial da receita federal do brasil   disponibiliza o programa aplicativo livro-caixa da  atividade rural para pessoa física que exerça a atividade rural no brasil ou no exterior, o qual permite a  escrituração pelo sistema de processamento eletrônico, no sítio http://receita.economia.gov.br.',\n",
              "  'esse contribuinte está obrigado a declarar caso se enquadre nas hipóteses previstas na pergunta 001. não  é o fato de ter constado como responsável perante a secretaria especial da receita federal do brasil    por cadastro nacional da pessoa jurídica   de associações (bairros, creches, clubes etc.), por si só,  que obriga a apresentação de declaração de ajuste anual.'],\n",
              " ['\"pro soluto se diz dos títulos de crédito quando dados com efeito de pagamento, como se dinheiro fossem,  operando a novação do negócio que lhes deu origem. pro solvendo, quando são recebidos em caráter  condicional, sendo puramente representativos ou enunciativos da dívida, não operando novação alguma, só  valendo como pagamento quando efetivamente resgatados\" (lei soibelman, dicionário geral de direito,  1974).   se houver venda de bens ou direitos a prazo, com emissão de notas promissórias desvinculadas do contrato  pela cláusula pro soluto, essa operação deve ser considerada como à vista, para todos os efeitos fiscais,  computando-se o valor total da venda no mês da alienação.   se na venda dos bens ou direitos não houver emissão de notas promissórias ou estas forem emitidas  vinculadas ao contrato pela cláusula pro solvendo, essa operação é considerada como venda em prestações,  para todos os efeitos fiscais, computando-se em cada mês o valor efetivamente recebido.',\n",
              "  'declaração de ajuste anual deve ser apresentada no período de 2 de março a 30 de junho de 2020.    serviço de recepção da declaração, pela internet, será interrompido às 23h59min59s (vinte e três horas,  cinquenta e nove minutos e cinquenta e nove segundos), horário de brasília, do último dia do prazo  estabelecido.',\n",
              "  'ganho líquido é constituído pela diferença positiva entre o valor de venda do ativo e o seu custo de aquisição.'])"
            ]
          },
          "metadata": {
            "tags": []
          },
          "execution_count": 15
        }
      ]
    },
    {
      "cell_type": "code",
      "metadata": {
        "colab": {
          "base_uri": "https://localhost:8080/"
        },
        "id": "A7jRxQjuuVp1",
        "outputId": "655db124-78da-44df-8f71-4debf3462a10"
      },
      "source": [
        "# ===============================\n",
        "# ✨ step 1: build the [D] token\n",
        "# ===============================\n",
        "D_marker_token, D_marker_token_id = '[D]', tok.convert_tokens_to_ids('[unused1]')\n",
        "\n",
        "# =================================================================\n",
        "# ✨ step 2: add a place holder for token [Q] in the query's batch\n",
        "# =================================================================\n",
        "d_batch_text = ['. ' + x for x in doc_bsize]\n",
        "\n",
        "# =====================================\n",
        "# ✨ step 3: build the q_obj tokenizer\n",
        "# =====================================\n",
        "d_obj = tok(\n",
        "    d_batch_text, \n",
        "    padding='max_length', \n",
        "    truncation=True,\n",
        "    return_tensors='pt', \n",
        "    max_length=doc_maxlen,\n",
        "    )\n",
        "\n",
        "# utiliza somente ids e mask keys\n",
        "d_ids, d_mask = d_obj['input_ids'], d_obj['attention_mask']\n",
        "\n",
        "# =============================================================================\n",
        "# ✨ step 4: insert [D] after [CLS] token and switch the token [PAD] by [MASK]\n",
        "# =============================================================================\n",
        "d_ids[:, 1] = D_marker_token_id\n",
        "\n",
        "# ==================================\n",
        "# ✨ step 5: sort the doc's lengths \n",
        "# ==================================\n",
        "indices = d_mask.sum(-1).sort().indices\n",
        "reverse_indices = indices.sort().indices\n",
        "d_ids = d_ids[indices]\n",
        "d_mask = d_mask[indices]\n",
        "\n",
        "# ===================================================================\n",
        "# ✨ step 7: build the doc's batch: list(ids, mask), reverse_indices\n",
        "# ===================================================================\n",
        "d_batches = []\n",
        "for offset in range(0, d_ids.size(0), bsize):\n",
        "    d_batches.append((d_ids[offset:offset+bsize], d_mask[offset:offset+bsize]))\n",
        "d_batches    "
      ],
      "execution_count": null,
      "outputs": [
        {
          "output_type": "execute_result",
          "data": {
            "text/plain": [
              "[(tensor([[  101,     1, 12537, 10819, 53311,   147, 84177, 11977, 10120, 86852,\n",
              "           52054, 10405,   157, 17859, 10102, 51801, 10154, 30106, 11259,   147,\n",
              "             157, 10674, 93011, 10102, 23955, 45426, 12574,   119,   102,     0,\n",
              "               0,     0,     0,     0,     0,     0,     0,     0,     0,     0,\n",
              "               0,     0,     0,     0,     0,     0,     0,     0,     0,     0,\n",
              "               0,     0,     0,     0,     0,     0,     0,     0,     0,     0,\n",
              "               0,     0,     0,     0],\n",
              "          [  101,     1, 33873,   119, 37344, 20291,   117, 13991, 10126, 10143,\n",
              "           26218, 48855, 10250,   117, 14396, 43787, 10131,   143, 58262, 11115,\n",
              "           10102, 13657, 34165, 26474,   117, 14297, 59441, 10351,   143, 10316,\n",
              "           13688, 52529, 76665, 11223, 30736, 10131, 73690, 10252, 10557, 10102,\n",
              "           10477, 58262, 11115, 10102, 13657, 34165, 26474,   117, 26625, 10245,\n",
              "           25325, 10391, 38788, 10111,   117, 11460, 87088, 11499, 19056, 10102,\n",
              "           17757, 15898, 10135,   102],\n",
              "          [  101,     1, 20318, 10141, 11460, 37904, 32215, 10141, 64313, 14982,\n",
              "           11460, 10177, 17550, 11977, 37344, 20291,   147, 15768, 89755, 18255,\n",
              "             143, 52129, 11115, 10154, 25310,   118, 55448,   117, 11088, 56561,\n",
              "           10622, 10146, 58593, 18129,   117, 10146, 10143, 17700, 10416,   117,\n",
              "           10253, 10104, 54093, 25942,   147, 54153, 30747, 10126, 56237, 10150,\n",
              "             143, 64313,   119, 52129, 11115,   147,   143, 15768, 11846, 11115,\n",
              "           75143, 10542, 76737,   102]]),\n",
              "  tensor([[1, 1, 1, 1, 1, 1, 1, 1, 1, 1, 1, 1, 1, 1, 1, 1, 1, 1, 1, 1, 1, 1, 1, 1,\n",
              "           1, 1, 1, 1, 1, 0, 0, 0, 0, 0, 0, 0, 0, 0, 0, 0, 0, 0, 0, 0, 0, 0, 0, 0,\n",
              "           0, 0, 0, 0, 0, 0, 0, 0, 0, 0, 0, 0, 0, 0, 0, 0],\n",
              "          [1, 1, 1, 1, 1, 1, 1, 1, 1, 1, 1, 1, 1, 1, 1, 1, 1, 1, 1, 1, 1, 1, 1, 1,\n",
              "           1, 1, 1, 1, 1, 1, 1, 1, 1, 1, 1, 1, 1, 1, 1, 1, 1, 1, 1, 1, 1, 1, 1, 1,\n",
              "           1, 1, 1, 1, 1, 1, 1, 1, 1, 1, 1, 1, 1, 1, 1, 1],\n",
              "          [1, 1, 1, 1, 1, 1, 1, 1, 1, 1, 1, 1, 1, 1, 1, 1, 1, 1, 1, 1, 1, 1, 1, 1,\n",
              "           1, 1, 1, 1, 1, 1, 1, 1, 1, 1, 1, 1, 1, 1, 1, 1, 1, 1, 1, 1, 1, 1, 1, 1,\n",
              "           1, 1, 1, 1, 1, 1, 1, 1, 1, 1, 1, 1, 1, 1, 1, 1]])),\n",
              " (tensor([[  101,     1, 17113, 52529, 76665, 11223, 10602, 15547, 48855, 10351,\n",
              "             143, 72389, 12887, 10128, 10109, 30290, 17625, 12621, 18774, 43129,\n",
              "           10165, 69063, 10107, 10135, 10174, 20286, 10211, 17765,   119, 11373,\n",
              "             147,   157, 37808, 10102, 12555, 30736, 10351, 10245, 48061, 55852,\n",
              "           10218,   143, 34513, 16975, 10141, 58593, 11255, 12501, 10154, 12369,\n",
              "           10190, 11822, 31559, 11275, 10141, 37344, 73370, 10102, 13967, 52078,\n",
              "           12965,   113, 36175,   102],\n",
              "          [  101,     1,   107, 11061, 13238, 21391, 10128, 34026, 10426, 27634,\n",
              "           10102, 62372, 11798, 24325, 10241, 69979, 10102, 80914,   117, 10245,\n",
              "           10128, 66213, 18396, 10150,   117, 11870, 10622,   143, 11910, 11115,\n",
              "           10154, 57917, 10126, 25697, 10107, 17846, 32286,   119, 11061, 86968,\n",
              "           10622,   117, 11798, 11132, 58593, 39567, 10107, 10252, 15281, 11048,\n",
              "           47925, 10476,   117, 14297, 83897, 20248, 31003, 10391, 10109, 11128,\n",
              "           11401, 31003, 10141,   102],\n",
              "          [  101,     1, 58262, 11115, 10102, 13657, 34165, 26474, 19495, 10542,\n",
              "           43787, 10250, 10181, 12659, 10102,   123, 10102, 12614,   143, 10225,\n",
              "           10102, 20185, 10102, 24279,   119, 37141, 10102, 58593, 64761, 10141,\n",
              "           58262, 11115,   117, 11977, 12044,   117, 13796, 16355, 23619, 91402,\n",
              "           10146, 10336, 10243, 95415, 15390, 95415, 10107,   113, 54396,   147,\n",
              "           10860, 21838,   117, 22136, 13510,   147, 15664, 22955,   147, 22136,\n",
              "           13510,   147, 15664,   102]]),\n",
              "  tensor([[1, 1, 1, 1, 1, 1, 1, 1, 1, 1, 1, 1, 1, 1, 1, 1, 1, 1, 1, 1, 1, 1, 1, 1,\n",
              "           1, 1, 1, 1, 1, 1, 1, 1, 1, 1, 1, 1, 1, 1, 1, 1, 1, 1, 1, 1, 1, 1, 1, 1,\n",
              "           1, 1, 1, 1, 1, 1, 1, 1, 1, 1, 1, 1, 1, 1, 1, 1],\n",
              "          [1, 1, 1, 1, 1, 1, 1, 1, 1, 1, 1, 1, 1, 1, 1, 1, 1, 1, 1, 1, 1, 1, 1, 1,\n",
              "           1, 1, 1, 1, 1, 1, 1, 1, 1, 1, 1, 1, 1, 1, 1, 1, 1, 1, 1, 1, 1, 1, 1, 1,\n",
              "           1, 1, 1, 1, 1, 1, 1, 1, 1, 1, 1, 1, 1, 1, 1, 1],\n",
              "          [1, 1, 1, 1, 1, 1, 1, 1, 1, 1, 1, 1, 1, 1, 1, 1, 1, 1, 1, 1, 1, 1, 1, 1,\n",
              "           1, 1, 1, 1, 1, 1, 1, 1, 1, 1, 1, 1, 1, 1, 1, 1, 1, 1, 1, 1, 1, 1, 1, 1,\n",
              "           1, 1, 1, 1, 1, 1, 1, 1, 1, 1, 1, 1, 1, 1, 1, 1]]))]"
            ]
          },
          "metadata": {
            "tags": []
          },
          "execution_count": 16
        }
      ]
    },
    {
      "cell_type": "markdown",
      "metadata": {
        "id": "GR-3-0QhqdO9"
      },
      "source": [
        "# Tensorize Triplets"
      ]
    },
    {
      "cell_type": "code",
      "metadata": {
        "colab": {
          "base_uri": "https://localhost:8080/"
        },
        "id": "hI74fmcZIWxT",
        "outputId": "2a51673c-1759-4a9b-d521-cfbd7157dbd6"
      },
      "source": [
        "# =================================================\n",
        "# ✨ step 0: assign  ids e mask tokens and reshape\n",
        "# =================================================\n",
        "N = len(query_bsize)\n",
        "Q_ids, Q_mask = q_ids, q_mask\n",
        "D_ids, D_mask = d_ids, d_mask\n",
        "D_ids, D_mask = D_ids.view(2, N, -1), D_mask.view(2, N, -1)\n",
        "\n",
        "print(f'Q_ids:  {q_ids.shape}')\n",
        "print(f'Q_mask: {q_mask.shape}\\n')\n",
        "\n",
        "print(f'D_ids:                {d_ids.shape}')\n",
        "print(f'D_ids.view(2, N, -1): {d_ids.view(2, N, -1).shape}\\n')\n",
        "print(f'D_mask:                {d_mask.shape}')\n",
        "print(f'D_mask.view(2, N, -1): {d_mask.view(2, N, -1).shape}')"
      ],
      "execution_count": null,
      "outputs": [
        {
          "output_type": "stream",
          "text": [
            "Q_ids:  torch.Size([3, 36])\n",
            "Q_mask: torch.Size([3, 36])\n",
            "\n",
            "D_ids:                torch.Size([6, 64])\n",
            "D_ids.view(2, N, -1): torch.Size([2, 3, 64])\n",
            "\n",
            "D_mask:                torch.Size([6, 64])\n",
            "D_mask.view(2, N, -1): torch.Size([2, 3, 64])\n"
          ],
          "name": "stdout"
        }
      ]
    },
    {
      "cell_type": "code",
      "metadata": {
        "colab": {
          "base_uri": "https://localhost:8080/"
        },
        "id": "keK2XGpIHkJs",
        "outputId": "41409d1f-8bb9-44bd-da3d-973c5dd5cdcf"
      },
      "source": [
        "# ==========================================================================================================\n",
        "# ✨ step 1: get the max value between the len of i-th positive and the len of the i-th negative for i in N\n",
        "# ==========================================================================================================\n",
        "maxlens = D_mask.sum(-1).max(0).values\n",
        "print(maxlens)\n",
        "indices = maxlens.sort().indices\n",
        "indices"
      ],
      "execution_count": null,
      "outputs": [
        {
          "output_type": "stream",
          "text": [
            "tensor([64, 64, 64])\n"
          ],
          "name": "stdout"
        },
        {
          "output_type": "execute_result",
          "data": {
            "text/plain": [
              "tensor([0, 1, 2])"
            ]
          },
          "metadata": {
            "tags": []
          },
          "execution_count": 18
        }
      ]
    },
    {
      "cell_type": "code",
      "metadata": {
        "id": "G6yPFTesKYSG"
      },
      "source": [
        "# =====================================\n",
        "# ✨ step 2: sort Q_* e D_* by maxlens\n",
        "# =====================================\n",
        "indices = maxlens.sort().indices\n",
        "Q_ids, Q_mask = Q_ids[indices], Q_mask[indices]\n",
        "D_ids, D_mask = D_ids[:, indices], D_mask[:, indices]"
      ],
      "execution_count": null,
      "outputs": []
    },
    {
      "cell_type": "code",
      "metadata": {
        "colab": {
          "base_uri": "https://localhost:8080/"
        },
        "id": "HuOhT_2hLwvT",
        "outputId": "2fe6e215-5429-4b4e-def8-c4adf590e370"
      },
      "source": [
        "# ==========================================================================\n",
        "# ✨ step 3: split the positive e negative ids and mask from D_ids e D_mask\n",
        "# ==========================================================================\n",
        "(positive_ids, negative_ids), (positive_mask, negative_mask) = D_ids, D_mask\n",
        "positive_ids.shape, negative_ids.shape, positive_mask.shape, negative_mask.shape"
      ],
      "execution_count": null,
      "outputs": [
        {
          "output_type": "execute_result",
          "data": {
            "text/plain": [
              "(torch.Size([3, 64]),\n",
              " torch.Size([3, 64]),\n",
              " torch.Size([3, 64]),\n",
              " torch.Size([3, 64]))"
            ]
          },
          "metadata": {
            "tags": []
          },
          "execution_count": 20
        }
      ]
    },
    {
      "cell_type": "code",
      "metadata": {
        "id": "PExtEqAvLwsq"
      },
      "source": [
        "# =====================================================================\n",
        "# ✨ step 4: build batches to queries, positive_docs and negative_docs\n",
        "# =====================================================================\n",
        "(positive_ids, negative_ids), (positive_mask, negative_mask) = D_ids, D_mask\n",
        "\n",
        "query_batches = []\n",
        "for offset in range(0, Q_ids.size(0), bsize):\n",
        "    query_batches.append((Q_ids[offset:offset+bsize], Q_mask[offset:offset+bsize]))\n",
        "\n",
        "positive_batches = []\n",
        "for offset in range(0, positive_ids.size(0), bsize):\n",
        "    positive_batches.append((positive_ids[offset:offset+bsize], positive_mask[offset:offset+bsize]))    \n",
        "\n",
        "negative_batches = []\n",
        "for offset in range(0, negative_ids.size(0), bsize):\n",
        "    negative_batches.append((negative_ids[offset:offset+bsize], negative_mask[offset:offset+bsize]))    "
      ],
      "execution_count": null,
      "outputs": []
    },
    {
      "cell_type": "code",
      "metadata": {
        "colab": {
          "base_uri": "https://localhost:8080/"
        },
        "id": "SL1meeaSKMHc",
        "outputId": "ec328ec8-9d4e-45c5-ad95-675037dc1eac"
      },
      "source": [
        "# ===================================================================\n",
        "# ✨ step 5: group the batches: (query_, positive_, negative)batches\n",
        "# ===================================================================\n",
        "batches = []\n",
        "for (q_ids, q_mask), (p_ids, p_mask), (n_ids, n_mask) in zip(query_batches, positive_batches, negative_batches):\n",
        "    Q = (torch.cat((q_ids, q_ids)), torch.cat((q_mask, q_mask))) # <- duplicate Q (one to pos docs and another for neg docs)\n",
        "    D = (torch.cat((p_ids, n_ids)), torch.cat((p_mask, n_mask)))\n",
        "    batches.append((Q, D))\n",
        "batches"
      ],
      "execution_count": null,
      "outputs": [
        {
          "output_type": "execute_result",
          "data": {
            "text/plain": [
              "[((tensor([[  101,   100, 37344, 20291, 10143, 26218, 48855, 10250, 14396, 43787,\n",
              "            10131,   143, 58262, 11115, 10102, 13657, 34165, 26474,   136,   102,\n",
              "              103,   103,   103,   103,   103,   103,   103,   103,   103,   103,\n",
              "              103,   103,   103,   103,   103,   103],\n",
              "           [  101,   100, 13249,   147,   143, 11098, 10102, 15768, 11846, 11115,\n",
              "            10154, 20318, 10141, 64313, 14982, 10141, 37344, 20291,   136,   102,\n",
              "              103,   103,   103,   103,   103,   103,   103,   103,   103,   103,\n",
              "              103,   103,   103,   103,   103,   103],\n",
              "           [  101,   100, 52529, 76665, 11223, 10126, 10173, 15160, 10136, 10245,\n",
              "            48061, 55852, 10218,   143, 34513, 16975, 10141, 58593, 11255, 12501,\n",
              "            10154, 12369, 10190, 11822, 31559, 11275, 10141, 37344, 73370, 10102,\n",
              "            13967, 52078, 12965,   113, 36175,   102],\n",
              "           [  101,   100, 37344, 20291, 10143, 26218, 48855, 10250, 14396, 43787,\n",
              "            10131,   143, 58262, 11115, 10102, 13657, 34165, 26474,   136,   102,\n",
              "              103,   103,   103,   103,   103,   103,   103,   103,   103,   103,\n",
              "              103,   103,   103,   103,   103,   103],\n",
              "           [  101,   100, 13249,   147,   143, 11098, 10102, 15768, 11846, 11115,\n",
              "            10154, 20318, 10141, 64313, 14982, 10141, 37344, 20291,   136,   102,\n",
              "              103,   103,   103,   103,   103,   103,   103,   103,   103,   103,\n",
              "              103,   103,   103,   103,   103,   103],\n",
              "           [  101,   100, 52529, 76665, 11223, 10126, 10173, 15160, 10136, 10245,\n",
              "            48061, 55852, 10218,   143, 34513, 16975, 10141, 58593, 11255, 12501,\n",
              "            10154, 12369, 10190, 11822, 31559, 11275, 10141, 37344, 73370, 10102,\n",
              "            13967, 52078, 12965,   113, 36175,   102]]),\n",
              "   tensor([[1, 1, 1, 1, 1, 1, 1, 1, 1, 1, 1, 1, 1, 1, 1, 1, 1, 1, 1, 1, 0, 0, 0, 0,\n",
              "            0, 0, 0, 0, 0, 0, 0, 0, 0, 0, 0, 0],\n",
              "           [1, 1, 1, 1, 1, 1, 1, 1, 1, 1, 1, 1, 1, 1, 1, 1, 1, 1, 1, 1, 0, 0, 0, 0,\n",
              "            0, 0, 0, 0, 0, 0, 0, 0, 0, 0, 0, 0],\n",
              "           [1, 1, 1, 1, 1, 1, 1, 1, 1, 1, 1, 1, 1, 1, 1, 1, 1, 1, 1, 1, 1, 1, 1, 1,\n",
              "            1, 1, 1, 1, 1, 1, 1, 1, 1, 1, 1, 1],\n",
              "           [1, 1, 1, 1, 1, 1, 1, 1, 1, 1, 1, 1, 1, 1, 1, 1, 1, 1, 1, 1, 0, 0, 0, 0,\n",
              "            0, 0, 0, 0, 0, 0, 0, 0, 0, 0, 0, 0],\n",
              "           [1, 1, 1, 1, 1, 1, 1, 1, 1, 1, 1, 1, 1, 1, 1, 1, 1, 1, 1, 1, 0, 0, 0, 0,\n",
              "            0, 0, 0, 0, 0, 0, 0, 0, 0, 0, 0, 0],\n",
              "           [1, 1, 1, 1, 1, 1, 1, 1, 1, 1, 1, 1, 1, 1, 1, 1, 1, 1, 1, 1, 1, 1, 1, 1,\n",
              "            1, 1, 1, 1, 1, 1, 1, 1, 1, 1, 1, 1]])),\n",
              "  (tensor([[  101,     1, 12537, 10819, 53311,   147, 84177, 11977, 10120, 86852,\n",
              "            52054, 10405,   157, 17859, 10102, 51801, 10154, 30106, 11259,   147,\n",
              "              157, 10674, 93011, 10102, 23955, 45426, 12574,   119,   102,     0,\n",
              "                0,     0,     0,     0,     0,     0,     0,     0,     0,     0,\n",
              "                0,     0,     0,     0,     0,     0,     0,     0,     0,     0,\n",
              "                0,     0,     0,     0,     0,     0,     0,     0,     0,     0,\n",
              "                0,     0,     0,     0],\n",
              "           [  101,     1, 33873,   119, 37344, 20291,   117, 13991, 10126, 10143,\n",
              "            26218, 48855, 10250,   117, 14396, 43787, 10131,   143, 58262, 11115,\n",
              "            10102, 13657, 34165, 26474,   117, 14297, 59441, 10351,   143, 10316,\n",
              "            13688, 52529, 76665, 11223, 30736, 10131, 73690, 10252, 10557, 10102,\n",
              "            10477, 58262, 11115, 10102, 13657, 34165, 26474,   117, 26625, 10245,\n",
              "            25325, 10391, 38788, 10111,   117, 11460, 87088, 11499, 19056, 10102,\n",
              "            17757, 15898, 10135,   102],\n",
              "           [  101,     1, 20318, 10141, 11460, 37904, 32215, 10141, 64313, 14982,\n",
              "            11460, 10177, 17550, 11977, 37344, 20291,   147, 15768, 89755, 18255,\n",
              "              143, 52129, 11115, 10154, 25310,   118, 55448,   117, 11088, 56561,\n",
              "            10622, 10146, 58593, 18129,   117, 10146, 10143, 17700, 10416,   117,\n",
              "            10253, 10104, 54093, 25942,   147, 54153, 30747, 10126, 56237, 10150,\n",
              "              143, 64313,   119, 52129, 11115,   147,   143, 15768, 11846, 11115,\n",
              "            75143, 10542, 76737,   102],\n",
              "           [  101,     1, 17113, 52529, 76665, 11223, 10602, 15547, 48855, 10351,\n",
              "              143, 72389, 12887, 10128, 10109, 30290, 17625, 12621, 18774, 43129,\n",
              "            10165, 69063, 10107, 10135, 10174, 20286, 10211, 17765,   119, 11373,\n",
              "              147,   157, 37808, 10102, 12555, 30736, 10351, 10245, 48061, 55852,\n",
              "            10218,   143, 34513, 16975, 10141, 58593, 11255, 12501, 10154, 12369,\n",
              "            10190, 11822, 31559, 11275, 10141, 37344, 73370, 10102, 13967, 52078,\n",
              "            12965,   113, 36175,   102],\n",
              "           [  101,     1,   107, 11061, 13238, 21391, 10128, 34026, 10426, 27634,\n",
              "            10102, 62372, 11798, 24325, 10241, 69979, 10102, 80914,   117, 10245,\n",
              "            10128, 66213, 18396, 10150,   117, 11870, 10622,   143, 11910, 11115,\n",
              "            10154, 57917, 10126, 25697, 10107, 17846, 32286,   119, 11061, 86968,\n",
              "            10622,   117, 11798, 11132, 58593, 39567, 10107, 10252, 15281, 11048,\n",
              "            47925, 10476,   117, 14297, 83897, 20248, 31003, 10391, 10109, 11128,\n",
              "            11401, 31003, 10141,   102],\n",
              "           [  101,     1, 58262, 11115, 10102, 13657, 34165, 26474, 19495, 10542,\n",
              "            43787, 10250, 10181, 12659, 10102,   123, 10102, 12614,   143, 10225,\n",
              "            10102, 20185, 10102, 24279,   119, 37141, 10102, 58593, 64761, 10141,\n",
              "            58262, 11115,   117, 11977, 12044,   117, 13796, 16355, 23619, 91402,\n",
              "            10146, 10336, 10243, 95415, 15390, 95415, 10107,   113, 54396,   147,\n",
              "            10860, 21838,   117, 22136, 13510,   147, 15664, 22955,   147, 22136,\n",
              "            13510,   147, 15664,   102]]),\n",
              "   tensor([[1, 1, 1, 1, 1, 1, 1, 1, 1, 1, 1, 1, 1, 1, 1, 1, 1, 1, 1, 1, 1, 1, 1, 1,\n",
              "            1, 1, 1, 1, 1, 0, 0, 0, 0, 0, 0, 0, 0, 0, 0, 0, 0, 0, 0, 0, 0, 0, 0, 0,\n",
              "            0, 0, 0, 0, 0, 0, 0, 0, 0, 0, 0, 0, 0, 0, 0, 0],\n",
              "           [1, 1, 1, 1, 1, 1, 1, 1, 1, 1, 1, 1, 1, 1, 1, 1, 1, 1, 1, 1, 1, 1, 1, 1,\n",
              "            1, 1, 1, 1, 1, 1, 1, 1, 1, 1, 1, 1, 1, 1, 1, 1, 1, 1, 1, 1, 1, 1, 1, 1,\n",
              "            1, 1, 1, 1, 1, 1, 1, 1, 1, 1, 1, 1, 1, 1, 1, 1],\n",
              "           [1, 1, 1, 1, 1, 1, 1, 1, 1, 1, 1, 1, 1, 1, 1, 1, 1, 1, 1, 1, 1, 1, 1, 1,\n",
              "            1, 1, 1, 1, 1, 1, 1, 1, 1, 1, 1, 1, 1, 1, 1, 1, 1, 1, 1, 1, 1, 1, 1, 1,\n",
              "            1, 1, 1, 1, 1, 1, 1, 1, 1, 1, 1, 1, 1, 1, 1, 1],\n",
              "           [1, 1, 1, 1, 1, 1, 1, 1, 1, 1, 1, 1, 1, 1, 1, 1, 1, 1, 1, 1, 1, 1, 1, 1,\n",
              "            1, 1, 1, 1, 1, 1, 1, 1, 1, 1, 1, 1, 1, 1, 1, 1, 1, 1, 1, 1, 1, 1, 1, 1,\n",
              "            1, 1, 1, 1, 1, 1, 1, 1, 1, 1, 1, 1, 1, 1, 1, 1],\n",
              "           [1, 1, 1, 1, 1, 1, 1, 1, 1, 1, 1, 1, 1, 1, 1, 1, 1, 1, 1, 1, 1, 1, 1, 1,\n",
              "            1, 1, 1, 1, 1, 1, 1, 1, 1, 1, 1, 1, 1, 1, 1, 1, 1, 1, 1, 1, 1, 1, 1, 1,\n",
              "            1, 1, 1, 1, 1, 1, 1, 1, 1, 1, 1, 1, 1, 1, 1, 1],\n",
              "           [1, 1, 1, 1, 1, 1, 1, 1, 1, 1, 1, 1, 1, 1, 1, 1, 1, 1, 1, 1, 1, 1, 1, 1,\n",
              "            1, 1, 1, 1, 1, 1, 1, 1, 1, 1, 1, 1, 1, 1, 1, 1, 1, 1, 1, 1, 1, 1, 1, 1,\n",
              "            1, 1, 1, 1, 1, 1, 1, 1, 1, 1, 1, 1, 1, 1, 1, 1]])))]"
            ]
          },
          "metadata": {
            "tags": []
          },
          "execution_count": 22
        }
      ]
    },
    {
      "cell_type": "markdown",
      "metadata": {
        "id": "pnRnNuyOeSSh"
      },
      "source": [
        "# In class format"
      ]
    },
    {
      "cell_type": "code",
      "metadata": {
        "id": "cn7jCrgCecpn",
        "colab": {
          "base_uri": "https://localhost:8080/"
        },
        "outputId": "4bd31cdf-aad8-4710-bbff-a985a53cd194"
      },
      "source": [
        "# =============\n",
        "# ✨ Constants\n",
        "# =============\n",
        "bsize = 16 # N\n",
        "query_maxlen = 48\n",
        "doc_maxlen = 128\n",
        "path_model = 'bert-base-multilingual-uncased'\n",
        "\n",
        "# ==================\n",
        "# ✨ QueryTokenizer\n",
        "# ==================\n",
        "class QueryTokenizer():\n",
        "    def __init__(self, query_maxlen, path_tokenizer):\n",
        "        self.tok = BertTokenizerFast.from_pretrained(path_tokenizer)\n",
        "        self.query_maxlen = query_maxlen\n",
        "\n",
        "        self.cls_token, self.cls_token_id = self.tok.cls_token, self.tok.cls_token_id\n",
        "        self.sep_token, self.sep_token_id = self.tok.sep_token, self.tok.sep_token_id\n",
        "        self.mask_token, self.mask_token_id = self.tok.mask_token, self.tok.mask_token_id\n",
        "\n",
        "    def tokenize(self, batch_text, add_special_tokens=False):\n",
        "        assert type(batch_text) in [list, tuple], (type(batch_text))\n",
        "\n",
        "        tokens = [self.tok.tokenize(x, add_special_tokens=False) for x in batch_text]\n",
        "\n",
        "        if not add_special_tokens:\n",
        "            return tokens\n",
        "\n",
        "        prefix, suffix = [self.cls_token], [self.sep_token]\n",
        "        tokens = [prefix + lst + suffix + [self.mask_token] * (self.query_maxlen - (len(lst)+3)) for lst in tokens]\n",
        "\n",
        "        return tokens\n",
        "\n",
        "    def encode(self, batch_text, add_special_tokens=False):\n",
        "        assert type(batch_text) in [list, tuple], (type(batch_text))\n",
        "\n",
        "        ids = self.tok(batch_text, add_special_tokens=False)['input_ids']\n",
        "\n",
        "        if not add_special_tokens:\n",
        "            return ids\n",
        "\n",
        "        prefix, suffix = [self.cls_token_id], [self.sep_token_id]\n",
        "        ids = [prefix + lst + suffix + [self.mask_token_id] * (self.query_maxlen - (len(lst)+3)) for lst in ids]\n",
        "\n",
        "        return ids\n",
        "\n",
        "    def tensorize(self, batch_text, bsize=None):\n",
        "        assert type(batch_text) in [list, tuple], (type(batch_text))\n",
        "\n",
        "        obj = self.tok(batch_text, padding='max_length', truncation=True,\n",
        "                       return_tensors='pt', max_length=self.query_maxlen)\n",
        "\n",
        "        ids, mask = obj['input_ids'], obj['attention_mask']\n",
        "\n",
        "        ids[ids == 0] = self.mask_token_id\n",
        "\n",
        "        if bsize:\n",
        "            batches = _split_into_batches(ids, mask, bsize)\n",
        "            return batches\n",
        "\n",
        "        return ids, mask\n",
        "\n",
        "# ================\n",
        "# ✨ DocTokenizer\n",
        "# ================\n",
        "class DocTokenizer():\n",
        "    def __init__(self, doc_maxlen, path_tokenizer):\n",
        "        self.tok = BertTokenizerFast.from_pretrained(path_tokenizer)\n",
        "        self.doc_maxlen = doc_maxlen\n",
        "\n",
        "        self.cls_token, self.cls_token_id = self.tok.cls_token, self.tok.cls_token_id\n",
        "        self.sep_token, self.sep_token_id = self.tok.sep_token, self.tok.sep_token_id\n",
        "\n",
        "    def tokenize(self, batch_text, add_special_tokens=False):\n",
        "        assert type(batch_text) in [list, tuple], (type(batch_text))\n",
        "\n",
        "        tokens = [self.tok.tokenize(x, add_special_tokens=False) for x in batch_text]\n",
        "\n",
        "        if not add_special_tokens:\n",
        "            return tokens\n",
        "\n",
        "        prefix, suffix = [self.cls_token], [self.sep_token]\n",
        "        tokens = [prefix + lst + suffix for lst in tokens]\n",
        "\n",
        "        return tokens\n",
        "\n",
        "    def encode(self, batch_text, add_special_tokens=False):\n",
        "        assert type(batch_text) in [list, tuple], (type(batch_text))\n",
        "\n",
        "        ids = self.tok(batch_text, add_special_tokens=False)['input_ids']\n",
        "\n",
        "        if not add_special_tokens:\n",
        "            return ids\n",
        "\n",
        "        prefix, suffix = [self.cls_token_id], [self.sep_token_id]\n",
        "        ids = [prefix + lst + suffix for lst in ids]\n",
        "\n",
        "        return ids\n",
        "\n",
        "    def tensorize(self, batch_text, bsize=None):\n",
        "        assert type(batch_text) in [list, tuple], (type(batch_text))\n",
        "\n",
        "        obj = self.tok(batch_text, padding='longest', truncation='longest_first',\n",
        "                       return_tensors='pt', max_length=self.doc_maxlen)\n",
        "\n",
        "        ids, mask = obj['input_ids'], obj['attention_mask']\n",
        "\n",
        "        if bsize:\n",
        "            ids, mask, reverse_indices = _sort_by_length(ids, mask, bsize)\n",
        "            batches = _split_into_batches(ids, mask, bsize)\n",
        "            return batches, reverse_indices\n",
        "\n",
        "        return ids, mask\n",
        "\n",
        "# =====================\n",
        "# ✨ tensorize triples\n",
        "# =====================\n",
        "def tensorize_triples(query_tokenizer, doc_tokenizer, queries, positives, negatives, bsize):\n",
        "    assert len(queries) == len(positives) == len(negatives)\n",
        "    assert bsize is None or len(queries) % bsize == 0\n",
        "\n",
        "    N = len(queries)\n",
        "    assert bsize == N\n",
        "    Q_ids, Q_mask = query_tokenizer.tensorize(queries)\n",
        "    D_ids, D_mask = doc_tokenizer.tensorize(positives + negatives)\n",
        "    D_ids, D_mask = D_ids.view(2, N, -1), D_mask.view(2, N, -1)\n",
        "\n",
        "    # Compute max among {length of i^th positive, length of i^th negative} for i \\in N\n",
        "    maxlens = D_mask.sum(-1).max(0).values\n",
        "\n",
        "    # Sort by maxlens\n",
        "    indices = maxlens.sort().indices\n",
        "    Q_ids, Q_mask = Q_ids[indices], Q_mask[indices]\n",
        "    D_ids, D_mask = D_ids[:, indices], D_mask[:, indices]\n",
        "\n",
        "    (positive_ids, negative_ids), (positive_mask, negative_mask) = D_ids, D_mask\n",
        "\n",
        "    query_batches = _split_into_batches(Q_ids, Q_mask, bsize)\n",
        "    positive_batches = _split_into_batches(positive_ids, positive_mask, bsize)\n",
        "    negative_batches = _split_into_batches(negative_ids, negative_mask, bsize)\n",
        "\n",
        "    batches = []\n",
        "    for (q_ids, q_mask), (p_ids, p_mask), (n_ids, n_mask) in zip(query_batches, positive_batches, negative_batches):\n",
        "        Q = (torch.cat((q_ids, q_ids)), torch.cat((q_mask, q_mask)))\n",
        "        D = (torch.cat((p_ids, n_ids)), torch.cat((p_mask, n_mask)))\n",
        "        batches.append((Q, D))\n",
        "\n",
        "    return batches\n",
        "\n",
        "# =============\n",
        "# ✨ Aux funcs\n",
        "# =============\n",
        "def _sort_by_length(ids, mask, bsize):\n",
        "    if ids.size(0) <= bsize:\n",
        "        return ids, mask, torch.arange(ids.size(0))\n",
        "\n",
        "    indices = mask.sum(-1).sort().indices\n",
        "    reverse_indices = indices.sort().indices\n",
        "\n",
        "    return ids[indices], mask[indices], reverse_indices\n",
        "\n",
        "def _split_into_batches(ids, mask, bsize):\n",
        "    batches = []\n",
        "    for offset in range(0, ids.size(0), bsize):\n",
        "        batches.append((ids[offset:offset+bsize], mask[offset:offset+bsize]))\n",
        "\n",
        "    return batches\n",
        "\n",
        "# ===============\n",
        "# ✨ LazyBatcher\n",
        "# ===============\n",
        "class LazyBatcher():\n",
        "    def __init__(self, bsize, path, path_tokenizer, query_maxlen, doc_maxlen, mode='train', accumsteps=1):\n",
        "        self.bsize, self.accumsteps = bsize, accumsteps\n",
        "        self.query_tokenizer = QueryTokenizer(query_maxlen=query_maxlen, path_tokenizer=path_tokenizer)\n",
        "        self.doc_tokenizer = DocTokenizer(doc_maxlen=doc_maxlen, path_tokenizer=path_tokenizer)\n",
        "        self.tensorize_triples = partial(tensorize_triples, self.query_tokenizer, self.doc_tokenizer)\n",
        "        self.position = 0\n",
        "        self.mode = mode\n",
        "\n",
        "        self.triples = self._load_triples(path_base)\n",
        "        self.queries = self._load_queries(path_base)\n",
        "        self.collection = self._load_collection(path_base)\n",
        "    \n",
        "    def _load_triples(self, path):\n",
        "        if self.mode == 'train':\n",
        "            path = path+'data/df_FAQ_triplet_IDS_TRAIN.parquet.gzip'\n",
        "        elif self.mode == 'valid':\n",
        "            path = path+'data/df_FAQ_triplet_IDS_VALID.parquet.gzip'\n",
        "\n",
        "        df_triplet = pd.read_parquet(path)\n",
        "        triples = []\n",
        "        for qid, pos_pid, neg_pid in zip(\n",
        "            df_triplet.qid.values,\n",
        "            df_triplet.pos_pid.values,\n",
        "            df_triplet.neg_pid.values\n",
        "            ):\n",
        "            triples.append((qid, pos_pid, neg_pid))\n",
        "\n",
        "        return triples\n",
        "\n",
        "    def _load_queries(self, path):\n",
        "        if self.mode == 'train':\n",
        "            qid_to_query_train = path+'data/qid_to_query_TRAIN'\n",
        "            return pickle_file(qid_to_query_train)\n",
        "        elif self.mode == 'valid':\n",
        "            qid_to_query_valid = path+'data/qid_to_query_VALID'\n",
        "            return pickle_file(qid_to_query_valid)\n",
        "\n",
        "    def _load_collection(self, path):\n",
        "        if self.mode == 'train':\n",
        "            pid_to_doc_train = path+'data/pid_to_doc_TRAIN'\n",
        "            return pickle_file(pid_to_doc_train)\n",
        "        elif self.mode == 'valid':\n",
        "            pid_to_doc_valid = path+'data/pid_to_doc_VALID'\n",
        "            return pickle_file(pid_to_doc_valid)\n",
        "        \n",
        "\n",
        "    def __iter__(self):\n",
        "        return self\n",
        "\n",
        "    def __len__(self):\n",
        "        return len(self.triples)\n",
        "\n",
        "    def __next__(self):\n",
        "        # offsets determines the starting index position of each bag (sequence) in input.\n",
        "        offset, endpos = self.position, min(self.position + self.bsize, len(self.triples))\n",
        "        self.position = endpos\n",
        "\n",
        "        if offset + self.bsize > len(self.triples):\n",
        "            raise StopIteration\n",
        "\n",
        "        queries, positives, negatives = [], [], []\n",
        "\n",
        "        for position in range(offset, endpos):\n",
        "            query, pos, neg = self.triples[position]\n",
        "            query, pos, neg = self.queries[query], self.collection[pos], self.collection[neg]\n",
        "            queries.append(query)\n",
        "            positives.append(pos)\n",
        "            negatives.append(neg)\n",
        "\n",
        "        return self.collate(queries, positives, negatives)\n",
        "\n",
        "    def collate(self, queries, positives, negatives):\n",
        "        assert len(queries) == len(positives) == len(negatives) == self.bsize\n",
        "\n",
        "        return self.tensorize_triples(queries, positives, negatives, self.bsize // self.accumsteps)\n",
        "\n",
        "# - - - - -\n",
        "dataloader_train = LazyBatcher(\n",
        "    bsize=bsize, \n",
        "    path=path_base, \n",
        "    path_tokenizer=path_model,\n",
        "    query_maxlen=query_maxlen,\n",
        "    doc_maxlen=doc_maxlen,\n",
        "    mode='train'\n",
        "    )\n",
        "print('batches:')\n",
        "for i, batches in enumerate(dataloader_train):\n",
        "    print(f' {i }.', end ='')"
      ],
      "execution_count": null,
      "outputs": [
        {
          "output_type": "stream",
          "text": [
            "batch:\n",
            " 0. 1. 2. 3. 4. 5. 6. 7. 8. 9. 10. 11. 12. 13. 14. 15. 16. 17. 18. 19. 20. 21. 22. 23. 24. 25. 26. 27. 28. 29. 30. 31. 32. 33. 34. 35. 36. 37."
          ],
          "name": "stdout"
        }
      ]
    },
    {
      "cell_type": "code",
      "metadata": {
        "colab": {
          "base_uri": "https://localhost:8080/"
        },
        "id": "3-kw2SOAvkMu",
        "outputId": "4569e06b-b2a0-4dd1-c0b3-a58567b3f747"
      },
      "source": [
        "# ===================\n",
        "# ✨ Print one batch\n",
        "# ===================\n",
        "dataloader = LazyBatcher(\n",
        "    bsize=bsize, \n",
        "    path=path_base, \n",
        "    path_tokenizer=path_model,\n",
        "    query_maxlen=query_maxlen,\n",
        "    doc_maxlen=doc_maxlen,\n",
        "    mode='valid'\n",
        "    )\n",
        "\n",
        "dl0 = next(iter(dataloader))\n",
        "dl0"
      ],
      "execution_count": null,
      "outputs": [
        {
          "output_type": "execute_result",
          "data": {
            "text/plain": [
              "[((tensor([[  101, 10146, 10143,  ...,   103,   103,   103],\n",
              "           [  101, 10245, 43787,  ...,   103,   103,   103],\n",
              "           [  101, 13249,   147,  ...,   103,   103,   103],\n",
              "           ...,\n",
              "           [  101, 10245, 11132,  ...,   103,   103,   103],\n",
              "           [  101, 23840, 11132,  ...,   103,   103,   103],\n",
              "           [  101, 13249,   147,  ...,   103,   103,   103]]),\n",
              "   tensor([[1, 1, 1,  ..., 0, 0, 0],\n",
              "           [1, 1, 1,  ..., 0, 0, 0],\n",
              "           [1, 1, 1,  ..., 0, 0, 0],\n",
              "           ...,\n",
              "           [1, 1, 1,  ..., 0, 0, 0],\n",
              "           [1, 1, 1,  ..., 0, 0, 0],\n",
              "           [1, 1, 1,  ..., 0, 0, 0]])),\n",
              "  (tensor([[  101, 11373,   119,  ...,     0,     0,     0],\n",
              "           [  101, 52813, 22107,  ..., 12621, 26065,   102],\n",
              "           [  101, 10128, 11373,  ...,     0,     0,     0],\n",
              "           ...,\n",
              "           [  101, 11373,   117,  ...,   113, 37310,   102],\n",
              "           [  101, 17859, 19719,  ..., 89755, 71162,   102],\n",
              "           [  101,   100, 36362,  ...,   143, 42761,   102]]),\n",
              "   tensor([[1, 1, 1,  ..., 0, 0, 0],\n",
              "           [1, 1, 1,  ..., 1, 1, 1],\n",
              "           [1, 1, 1,  ..., 0, 0, 0],\n",
              "           ...,\n",
              "           [1, 1, 1,  ..., 1, 1, 1],\n",
              "           [1, 1, 1,  ..., 1, 1, 1],\n",
              "           [1, 1, 1,  ..., 1, 1, 1]])))]"
            ]
          },
          "metadata": {
            "tags": []
          },
          "execution_count": 28
        }
      ]
    },
    {
      "cell_type": "code",
      "metadata": {
        "id": "e0igj7sOwVFR"
      },
      "source": [
        ""
      ],
      "execution_count": null,
      "outputs": []
    }
  ]
}
